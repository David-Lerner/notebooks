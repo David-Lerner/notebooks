{
 "cells": [
  {
   "cell_type": "code",
   "execution_count": 3,
   "metadata": {
    "collapsed": true
   },
   "outputs": [],
   "source": [
    "import sqlite3\n",
    "import numpy as np\n",
    "import pandas as pd\n",
    "import matplotlib.pyplot as plt\n",
    "from IPython.display import set_matplotlib_formats, display, HTML\n",
    "\n",
    "\n",
    "DB = '../data/dailysudoku.db'"
   ]
  },
  {
   "cell_type": "code",
   "execution_count": 4,
   "metadata": {
    "collapsed": false
   },
   "outputs": [
    {
     "name": "stdout",
     "output_type": "stream",
     "text": [
      "[[ 28 146   0   0   0   0   0   0   0   0]\n",
      " [ 30 121   0   0   0   0   0   0   0   0]\n",
      " [ 29 120   0   0   0   0   0   0   0   0]\n",
      " [ 31 122   0   0   0   0   0   0   0   0]\n",
      " [ 28 130  18   0   0   0   0   0   0   0]\n",
      " [ 28 126   0   0   0   0   0   0   0   0]\n",
      " [ 28 120   0   0   0   0   0   0   0   0]\n",
      " [ 30 127   0   0   0   0   0   0   0   0]\n",
      " [ 31 112  24   0   0   0   0   0   0   0]\n",
      " [ 31 113  18   0   0   0   0   0   0   0]]\n",
      "[[28 53  0  0  0  0  0  0  0  0]\n",
      " [30 51  0  0  0  0  0  0  0  0]\n",
      " [29 52  0  0  0  0  0  0  0  0]\n",
      " [31 50  0  0  0  0  0  0  0  0]\n",
      " [28 41 12  0  0  0  0  0  0  0]\n",
      " [28 53  0  0  0  0  0  0  0  0]\n",
      " [28 53  0  0  0  0  0  0  0  0]\n",
      " [30 51  0  0  0  0  0  0  0  0]\n",
      " [31 37 13  0  0  0  0  0  0  0]\n",
      " [31 37 13  0  0  0  0  0  0  0]]\n",
      "[[1 1 0 0 0 0 0 0 0 0]\n",
      " [1 1 0 0 0 0 0 0 0 0]\n",
      " [1 1 0 0 0 0 0 0 0 0]\n",
      " [1 1 0 0 0 0 0 0 0 0]\n",
      " [1 1 1 0 0 0 0 0 0 0]\n",
      " [1 1 0 0 0 0 0 0 0 0]\n",
      " [1 1 0 0 0 0 0 0 0 0]\n",
      " [1 1 0 0 0 0 0 0 0 0]\n",
      " [1 1 1 0 0 0 0 0 0 0]\n",
      " [1 1 1 0 0 0 0 0 0 0]]\n",
      "[1 0 1 0 1 1 1 0 0 0]\n",
      "['easy' 'medium' 'hard' 'very hard']\n",
      "['given', 'Possible_Values', 'Hidden_Singles', 'Naked_Pairs', 'Naked_Triples', 'Hidden_Pairs', 'Hidden_Triples', 'Intersection_Removal', 'X_Wing', 'Brute_Force']\n"
     ]
    }
   ],
   "source": [
    "def load_sudokus(path):\n",
    "    conn = sqlite3.connect(path)\n",
    "    c = conn.cursor()\n",
    "    #c.execute('SELECT * FROM \"sudoku\" LIMIT 0, 10;')\n",
    "    c.execute('SELECT * FROM \"sudoku\";')\n",
    "    data = c.fetchall()\n",
    "    names = [member[0] for member in c.description]\n",
    "    dic = {'very hard': 3, 'hard': 2, 'medium': 1, 'easy': 0}\n",
    "    data_raw = np.array([row[3:] for row in data]) \n",
    "    dataset = {}\n",
    "    dataset['data'] = data_raw[:,:10]\n",
    "    dataset['data_cell'] = np.delete(data_raw, np.s_[1:10], 1)\n",
    "    dataset['data_bool'] = np.clip(data_raw[:,:10], 0, 1)\n",
    "    dataset['target'] = np.array([dic[name] for name in [row[2] for row in data]])\n",
    "    dataset['target_names'] = np.array(['easy', 'medium', 'hard',  'very hard'])\n",
    "    dataset['feature_names'] = names[3:13]\n",
    "    c.close()\n",
    "    conn.close()\n",
    "    return dataset\n",
    "\n",
    "dataset = load_sudokus(DB)\n",
    "#print the first 10 results\n",
    "print(dataset['data'][:10])\n",
    "print(dataset['data_cell'][:10])\n",
    "print(dataset['data_bool'][:10])\n",
    "print(dataset['target'][:10])\n",
    "print(dataset['target_names'])\n",
    "print(dataset['feature_names'])\n"
   ]
  },
  {
   "cell_type": "code",
   "execution_count": 5,
   "metadata": {
    "collapsed": true
   },
   "outputs": [],
   "source": [
    "from sklearn.model_selection import train_test_split\n",
    "X_train, X_test, y_train, y_test = train_test_split(\n",
    "    dataset['data'], dataset['target'], random_state=0)"
   ]
  },
  {
   "cell_type": "code",
   "execution_count": 6,
   "metadata": {
    "collapsed": false
   },
   "outputs": [
    {
     "name": "stdout",
     "output_type": "stream",
     "text": [
      "X_train shape: (3367, 10)\n",
      "y_train shape: (3367,)\n"
     ]
    }
   ],
   "source": [
    "print(\"X_train shape: {}\".format(X_train.shape))\n",
    "print(\"y_train shape: {}\".format(y_train.shape))"
   ]
  },
  {
   "cell_type": "code",
   "execution_count": 7,
   "metadata": {
    "collapsed": false
   },
   "outputs": [
    {
     "name": "stdout",
     "output_type": "stream",
     "text": [
      "X_test shape: (1123, 10)\n",
      "y_test shape: (1123,)\n"
     ]
    }
   ],
   "source": [
    "print(\"X_test shape: {}\".format(X_test.shape))\n",
    "print(\"y_test shape: {}\".format(y_test.shape))"
   ]
  },
  {
   "cell_type": "code",
   "execution_count": 8,
   "metadata": {
    "collapsed": true
   },
   "outputs": [],
   "source": [
    "def avg_by_class(data, coef, intercept, target, labels):\n",
    "    avgs = []\n",
    "    for label in labels:\n",
    "        avgs.append([0,0,label])\n",
    "    for i in range(len(data)):\n",
    "        dot = np.dot(data[i,:], coef)+intercept\n",
    "        avgs[target[i]][0] += dot\n",
    "        avgs[target[i]][1] += 1\n",
    "    print(\"Average score by class:\")\n",
    "    for e in avgs:\n",
    "        print(\"{}: {:.3f}\".format(e[2], e[0]/e[1]))\n",
    "\n",
    "def evaluate_regr(data, coef, intercept, target):\n",
    "    count = 0;\n",
    "    for i in range(len(data)):\n",
    "        dot = np.dot(data[i,:], coef)+intercept\n",
    "        if (int(round(dot)) == target[i]):\n",
    "            count += 1\n",
    "    return count/len(data)"
   ]
  },
  {
   "cell_type": "code",
   "execution_count": 9,
   "metadata": {
    "collapsed": false
   },
   "outputs": [
    {
     "name": "stdout",
     "output_type": "stream",
     "text": [
      "Coefficients: \n",
      " [-0.01752837  0.01224312  0.01551447  0.14861896  0.18039217  0.19327873\n",
      "  0.0258513   0.09074743  0.40265058  0.69937519]\n",
      "Intercept: \n",
      " -0.342499802283\n",
      "Mean squared error: 0.30\n",
      "Variance score: 0.69\n",
      "\n",
      "Average score by class:\n",
      "easy: 0.353\n",
      "medium: 1.358\n",
      "hard: 1.847\n",
      "very hard: 2.646\n",
      "\n",
      "Training set score: 0.676\n",
      "Test set score: 0.662\n"
     ]
    }
   ],
   "source": [
    "from sklearn import linear_model\n",
    "\n",
    "X_train, X_test, y_train, y_test = train_test_split(\n",
    "    dataset['data'], dataset['target'], random_state=0)\n",
    "\n",
    "regr = linear_model.LinearRegression()\n",
    "regr.fit(X_train, y_train)\n",
    "\n",
    "print('Coefficients: \\n', regr.coef_)\n",
    "print('Intercept: \\n', regr.intercept_)\n",
    "print(\"Mean squared error: %.2f\"\n",
    "      % np.mean((regr.predict(X_test) - y_test) ** 2))\n",
    "# Explained variance score: 1 is perfect prediction\n",
    "print('Variance score: %.2f' % regr.score(X_test, y_test))\n",
    "print()\n",
    "avg_by_class(dataset['data'], regr.coef_, regr.intercept_, dataset['target'], dataset['target_names'])\n",
    "print()\n",
    "print(\"Training set score: {:.3f}\".format(evaluate_regr(X_train, regr.coef_, regr.intercept_, y_train)))\n",
    "print(\"Test set score: {:.3f}\".format(evaluate_regr(X_test, regr.coef_, regr.intercept_, y_test)))"
   ]
  },
  {
   "cell_type": "code",
   "execution_count": 10,
   "metadata": {
    "collapsed": false
   },
   "outputs": [
    {
     "name": "stdout",
     "output_type": "stream",
     "text": [
      "Coefficients: \n",
      " [-0.20795723 -0.11622239 -0.10091315 -0.04499197 -0.03084585 -0.01607224\n",
      " -0.11633234 -0.0593136   0.05142192  0.64122686]\n",
      "Mean squared error: 0.30\n",
      "Variance score: 0.69\n",
      "Coefficients: \n",
      " [-0.20795723 -0.11622239 -0.10091315 -0.04499197 -0.03084585 -0.01607224\n",
      " -0.11633234 -0.0593136   0.05142192  0.64122686]\n",
      "Intercept: \n",
      " 12.9207918621\n",
      "Mean squared error: 0.30\n",
      "Variance score: 0.69\n",
      "\n",
      "Average score by class:\n",
      "easy: -6.340\n",
      "medium: -11.196\n",
      "hard: -11.259\n",
      "very hard: -10.362\n",
      "\n",
      "Training set score: 0.669\n",
      "Test set score: 0.660\n"
     ]
    }
   ],
   "source": [
    "X_train, X_test, y_train, y_test = train_test_split(\n",
    "    dataset['data_cell'], dataset['target'], random_state=0)\n",
    "\n",
    "regr = linear_model.LinearRegression()\n",
    "regr.fit(X_train, y_train)\n",
    "\n",
    "print('Coefficients: \\n', regr.coef_)\n",
    "\n",
    "print(\"Mean squared error: %.2f\"\n",
    "      % np.mean((regr.predict(X_test) - y_test) ** 2))\n",
    "# Explained variance score: 1 is perfect prediction\n",
    "print('Variance score: %.2f' % regr.score(X_test, y_test))\n",
    "\n",
    "print('Coefficients: \\n', regr.coef_)\n",
    "print('Intercept: \\n', regr.intercept_)\n",
    "print(\"Mean squared error: %.2f\"\n",
    "      % np.mean((regr.predict(X_test) - y_test) ** 2))\n",
    "# Explained variance score: 1 is perfect prediction\n",
    "print('Variance score: %.2f' % regr.score(X_test, y_test))\n",
    "print()\n",
    "avg_by_class(dataset['data'], regr.coef_, regr.intercept_, dataset['target'], dataset['target_names'])\n",
    "print()\n",
    "print(\"Training set score: {:.3f}\".format(evaluate_regr(X_train, regr.coef_, regr.intercept_, y_train)))\n",
    "print(\"Test set score: {:.3f}\".format(evaluate_regr(X_test, regr.coef_, regr.intercept_, y_test)))"
   ]
  },
  {
   "cell_type": "code",
   "execution_count": 11,
   "metadata": {
    "collapsed": false
   },
   "outputs": [
    {
     "name": "stdout",
     "output_type": "stream",
     "text": [
      "Coefficients: \n",
      " [ 0.          0.          0.92062852  0.52931625  0.34325368  0.18390713\n",
      " -0.02545044  0.23272697  0.31953516  1.10272073]\n",
      "Mean squared error: 0.22\n",
      "Variance score: 0.78\n",
      "Coefficients: \n",
      " [ 0.          0.          0.92062852  0.52931625  0.34325368  0.18390713\n",
      " -0.02545044  0.23272697  0.31953516  1.10272073]\n",
      "Intercept: \n",
      " 0.199541284404\n",
      "Mean squared error: 0.22\n",
      "Variance score: 0.78\n",
      "\n",
      "Average score by class:\n",
      "easy: 6.943\n",
      "medium: 24.401\n",
      "hard: 26.200\n",
      "very hard: 27.826\n",
      "\n",
      "Training set score: 0.747\n",
      "Test set score: 0.736\n"
     ]
    }
   ],
   "source": [
    "X_train, X_test, y_train, y_test = train_test_split(\n",
    "    dataset['data_bool'], dataset['target'], random_state=0)\n",
    "\n",
    "regr = linear_model.LinearRegression()\n",
    "regr.fit(X_train, y_train)\n",
    "\n",
    "print('Coefficients: \\n', regr.coef_)\n",
    "\n",
    "print(\"Mean squared error: %.2f\"\n",
    "      % np.mean((regr.predict(X_test) - y_test) ** 2))\n",
    "# Explained variance score: 1 is perfect prediction\n",
    "print('Variance score: %.2f' % regr.score(X_test, y_test))\n",
    "\n",
    "print('Coefficients: \\n', regr.coef_)\n",
    "print('Intercept: \\n', regr.intercept_)\n",
    "print(\"Mean squared error: %.2f\"\n",
    "      % np.mean((regr.predict(X_test) - y_test) ** 2))\n",
    "# Explained variance score: 1 is perfect prediction\n",
    "print('Variance score: %.2f' % regr.score(X_test, y_test))\n",
    "print()\n",
    "avg_by_class(dataset['data'], regr.coef_, regr.intercept_, dataset['target'], dataset['target_names'])\n",
    "print()\n",
    "print(\"Training set score: {:.3f}\".format(evaluate_regr(X_train, regr.coef_, regr.intercept_, y_train)))\n",
    "print(\"Test set score: {:.3f}\".format(evaluate_regr(X_test, regr.coef_, regr.intercept_, y_test)))"
   ]
  },
  {
   "cell_type": "code",
   "execution_count": 16,
   "metadata": {
    "collapsed": false
   },
   "outputs": [
    {
     "name": "stdout",
     "output_type": "stream",
     "text": [
      "Test set score: 0.84\n"
     ]
    }
   ],
   "source": [
    "from sklearn.neighbors import KNeighborsClassifier\n",
    "knn = KNeighborsClassifier(n_neighbors=1)\n",
    "\n",
    "X_train, X_test, y_train, y_test = train_test_split(\n",
    "    dataset['data_bool'], dataset['target'], random_state=0)\n",
    "\n",
    "knn = KNeighborsClassifier(n_neighbors=7)\n",
    "knn.fit(X_train, y_train)\n",
    "\n",
    "print(\"Test set score: {:.2f}\".format(knn.score(X_test, y_test)))"
   ]
  },
  {
   "cell_type": "code",
   "execution_count": 19,
   "metadata": {
    "collapsed": false
   },
   "outputs": [
    {
     "name": "stdout",
     "output_type": "stream",
     "text": [
      "Variance score: -233.44\n",
      "Coefficients: \n",
      " [[  1.39702020e+00  -8.04680028e-01  -8.12236785e-01  -3.01315656e+00\n",
      "   -1.89988343e+00  -1.12332316e+00  -4.85072891e-04  -2.16629528e+00\n",
      "   -2.44398960e+00  -4.25594366e+00]\n",
      " [ -3.48556323e-01   2.07553952e-01   2.06259606e-01  -2.43629730e-01\n",
      "   -4.88155765e-01  -9.01044644e-01  -8.05128837e-01  -9.74661019e-03\n",
      "   -8.34790474e-01  -3.72884487e+00]\n",
      " [ -1.18692965e-01   2.33498340e-02   4.64964812e-02   3.72252533e-01\n",
      "    4.12774392e-01   4.67688174e-01   4.18368560e-02   1.81580784e-01\n",
      "   -4.80010439e-01  -3.87351639e+00]\n",
      " [ -9.00111668e-02  -4.11186045e-02   8.84913623e-03   6.73008213e-02\n",
      "    1.58240067e-01   2.50523228e-01   2.62047732e-02   9.19621197e-02\n",
      "    9.55197902e-01   5.62733761e+00]]\n",
      "Training set score: 0.868\n",
      "Test set score: 0.862\n"
     ]
    }
   ],
   "source": [
    "from sklearn.linear_model import LogisticRegression\n",
    "\n",
    "X_train, X_test, y_train, y_test = train_test_split(\n",
    "    dataset['data_cell'], dataset['target'], random_state=0)\n",
    "\n",
    "# Explained variance score: 1 is perfect prediction\n",
    "print('Variance score: %.2f' % regr.score(X_test, y_test))\n",
    "logreg = LogisticRegression().fit(X_train, y_train)\n",
    "print('Coefficients: \\n', logreg.coef_)\n",
    "print(\"Training set score: {:.3f}\".format(logreg.score(X_train, y_train)))\n",
    "print(\"Test set score: {:.3f}\".format(logreg.score(X_test, y_test)))"
   ]
  },
  {
   "cell_type": "code",
   "execution_count": null,
   "metadata": {
    "collapsed": true
   },
   "outputs": [],
   "source": []
  }
 ],
 "metadata": {
  "kernelspec": {
   "display_name": "Python 3",
   "language": "python",
   "name": "python3"
  },
  "language_info": {
   "codemirror_mode": {
    "name": "ipython",
    "version": 3
   },
   "file_extension": ".py",
   "mimetype": "text/x-python",
   "name": "python",
   "nbconvert_exporter": "python",
   "pygments_lexer": "ipython3",
   "version": "3.6.0"
  }
 },
 "nbformat": 4,
 "nbformat_minor": 2
}
