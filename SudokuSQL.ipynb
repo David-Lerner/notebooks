{
 "cells": [
  {
   "cell_type": "code",
   "execution_count": 141,
   "metadata": {
    "collapsed": true
   },
   "outputs": [],
   "source": [
    "import sqlite3\n",
    "import numpy as np\n",
    "import pandas as pd\n",
    "from IPython.display import display, HTML\n",
    "\n",
    "DB = '../data/puzzler.db'"
   ]
  },
  {
   "cell_type": "code",
   "execution_count": 227,
   "metadata": {
    "collapsed": false
   },
   "outputs": [
    {
     "name": "stdout",
     "output_type": "stream",
     "text": [
      "[[ 29 138  23   1   0   0   0   0   0   0]\n",
      " [ 31 124  23   0   0   0   0   0   0   0]\n",
      " [ 28 127  27   0   1   0   0   3   0   0]\n",
      " [ 27 132  25   4   1   0   0   0   2   0]\n",
      " [ 33 126   0   0   0   0   0   0   0   0]\n",
      " [ 32 116   0   0   0   0   0   0   0   0]\n",
      " [ 32  86  45   0   0   0   0   0   0   0]\n",
      " [ 30 117  28   3   0   0   0   0   0   0]\n",
      " [ 31  95  54   0   0   0   0   0   0   0]\n",
      " [ 28 120  39   0   0   0   0   3   0   0]]\n",
      "[[29 35 15  2  0  0  0  0  0  0]\n",
      " [31 37 13  0  0  0  0  0  0  0]\n",
      " [28 35 11  0  3  0  0  4  0  0]\n",
      " [27 23 10 11  3  0  0  0  7  0]\n",
      " [33 48  0  0  0  0  0  0  0  0]\n",
      " [32 49  0  0  0  0  0  0  0  0]\n",
      " [32 23 26  0  0  0  0  0  0  0]\n",
      " [30 32 13  6  0  0  0  0  0  0]\n",
      " [31 23 27  0  0  0  0  0  0  0]\n",
      " [28 26 23  0  0  0  0  4  0  0]]\n",
      "[[1 1 1 1 0 0 0 0 0 0]\n",
      " [1 1 1 0 0 0 0 0 0 0]\n",
      " [1 1 1 0 1 0 0 1 0 0]\n",
      " [1 1 1 1 1 0 0 0 1 0]\n",
      " [1 1 0 0 0 0 0 0 0 0]\n",
      " [1 1 0 0 0 0 0 0 0 0]\n",
      " [1 1 1 0 0 0 0 0 0 0]\n",
      " [1 1 1 1 0 0 0 0 0 0]\n",
      " [1 1 1 0 0 0 0 0 0 0]\n",
      " [1 1 1 0 0 0 0 1 0 0]]\n",
      "[3 2 3 4 1 0 2 3 2 3]\n",
      "['Ultra Easy' 'Easy' 'Medium' 'Hard' 'Diabolical']\n",
      "['given', 'Possible_Values', 'Hidden_Singles', 'Naked_Pairs', 'Naked_Triples', 'Hidden_Pairs', 'Hidden_Triples', 'Intersection_Removal', 'X_Wing', 'Brute_Force']\n"
     ]
    }
   ],
   "source": [
    "def load_sudokus(path):\n",
    "    conn = sqlite3.connect(path)\n",
    "    c = conn.cursor()\n",
    "    #c.execute('SELECT * FROM \"sudoku\" LIMIT 0, 10;')\n",
    "    c.execute('SELECT * FROM \"sudoku\";')\n",
    "    data = c.fetchall()\n",
    "    names = [member[0] for member in c.description]\n",
    "    dic = {'Diabolical': 4, 'Hard': 3, 'Medium': 2, 'Easy': 1, 'Ultra Easy': 0}\n",
    "    data_raw = np.array([row[3:] for row in data]) \n",
    "    dataset = {}\n",
    "    dataset['data'] = data_raw[:,:10]\n",
    "    dataset['data_cell'] = np.delete(data_raw, np.s_[1:10], 1)\n",
    "    dataset['data_bool'] = np.clip(data_raw[:,:10], 0, 1)\n",
    "    dataset['target'] = np.array([dic[name] for name in [row[2] for row in data]])\n",
    "    dataset['target_names'] = np.array(['Ultra Easy', 'Easy', 'Medium', 'Hard', 'Diabolical'])\n",
    "    dataset['feature_names'] = names[3:13]\n",
    "    c.close()\n",
    "    conn.close()\n",
    "    return dataset\n",
    "\n",
    "dataset = load_sudokus(DB)\n",
    "#print the first 10 results\n",
    "print(dataset['data'][:10])\n",
    "print(dataset['data_cell'][:10])\n",
    "print(dataset['data_bool'][:10])\n",
    "print(dataset['target'][:10])\n",
    "print(dataset['target_names'])\n",
    "print(dataset['feature_names'])\n"
   ]
  },
  {
   "cell_type": "code",
   "execution_count": 211,
   "metadata": {
    "collapsed": false
   },
   "outputs": [],
   "source": [
    "from sklearn.model_selection import train_test_split\n",
    "X_train, X_test, y_train, y_test = train_test_split(\n",
    "    dataset['data'], dataset['target'], random_state=0)"
   ]
  },
  {
   "cell_type": "code",
   "execution_count": 212,
   "metadata": {
    "collapsed": false
   },
   "outputs": [
    {
     "name": "stdout",
     "output_type": "stream",
     "text": [
      "X_train shape: (2077, 10)\n",
      "y_train shape: (2077,)\n"
     ]
    }
   ],
   "source": [
    "print(\"X_train shape: {}\".format(X_train.shape))\n",
    "print(\"y_train shape: {}\".format(y_train.shape))"
   ]
  },
  {
   "cell_type": "code",
   "execution_count": 213,
   "metadata": {
    "collapsed": false
   },
   "outputs": [
    {
     "name": "stdout",
     "output_type": "stream",
     "text": [
      "X_test shape: (693, 10)\n",
      "y_test shape: (693,)\n"
     ]
    }
   ],
   "source": [
    "print(\"X_test shape: {}\".format(X_test.shape))\n",
    "print(\"y_test shape: {}\".format(y_test.shape))"
   ]
  },
  {
   "cell_type": "code",
   "execution_count": 214,
   "metadata": {
    "collapsed": true
   },
   "outputs": [],
   "source": [
    "from sklearn.neighbors import KNeighborsClassifier\n",
    "knn = KNeighborsClassifier(n_neighbors=1)"
   ]
  },
  {
   "cell_type": "code",
   "execution_count": 215,
   "metadata": {
    "collapsed": false
   },
   "outputs": [
    {
     "data": {
      "text/plain": [
       "KNeighborsClassifier(algorithm='auto', leaf_size=30, metric='minkowski',\n",
       "           metric_params=None, n_jobs=1, n_neighbors=1, p=2,\n",
       "           weights='uniform')"
      ]
     },
     "execution_count": 215,
     "metadata": {},
     "output_type": "execute_result"
    }
   ],
   "source": [
    "knn.fit(X_train, y_train)"
   ]
  },
  {
   "cell_type": "code",
   "execution_count": 217,
   "metadata": {
    "collapsed": false
   },
   "outputs": [
    {
     "name": "stdout",
     "output_type": "stream",
     "text": [
      "Test set predictions:\n",
      " [3 2 2 4 2 4 1 1 4 2 3 2 3 4 2 0 2 1 3 2 3 0 2 0 3 3 0 2 3 2 4 0 3 0 1 0 2\n",
      " 1 4 0 2 3 3 4 3 2 4 3 0 2 3 3 2 4 3 2 2 3 0 2 0 0 3 3 0 2 4 0 4 0 3 3 2 2\n",
      " 0 3 2 2 1 2 3 2 3 3 3 3 3 2 2 3 4 4 3 0 1 3 3 1 2 2 3 2 2 3 1 3 2 3 3 2 0\n",
      " 3 1 3 2 1 0 0 3 3 4 2 3 2 3 2 2 3 2 2 1 0 1 3 4 2 1 1 2 1 3 2 0 0 2 1 2 1\n",
      " 3 2 4 2 3 3 3 3 2 3 4 3 2 4 2 2 3 2 3 3 4 1 3 1 3 3 1 2 0 2 3 3 3 4 0 3 3\n",
      " 2 2 1 3 3 1 3 3 1 4 3 3 0 1 3 2 3 3 2 2 3 1 3 2 3 1 3 3 1 2 3 2 3 0 3 0 2\n",
      " 3 4 1 4 4 2 3 1 2 1 3 1 3 2 4 4 4 3 2 2 2 3 4 1 2 0 0 2 4 3 4 0 2 1 3 3 0\n",
      " 1 4 1 0 3 2 2 1 1 3 3 2 3 3 3 1 0 2 3 1 0 4 2 2 1 1 2 1 2 0 0 3 4 1 3 1 0\n",
      " 1 3 2 4 2 2 3 3 3 3 0 2 3 0 0 1 1 4 3 4 3 1 2 4 3 2 4 1 3 3 3 1 3 2 1 1 0\n",
      " 1 3 3 3 3 2 3 1 4 1 2 1 4 3 2 0 2 4 0 2 0 2 3 0 1 3 3 4 2 4 2 3 4 2 1 0 1\n",
      " 3 2 2 3 2 4 3 3 0 0 2 3 3 2 0 3 1 2 3 0 0 1 4 1 2 3 2 2 2 1 3 0 4 1 4 3 3\n",
      " 2 1 2 3 0 2 3 2 3 0 1 2 2 3 0 1 0 4 2 3 2 2 0 2 4 3 0 2 1 4 0 4 2 2 4 4 1\n",
      " 2 0 2 3 3 3 3 3 1 2 4 4 1 2 1 3 2 2 4 1 2 4 2 3 3 1 0 4 1 2 2 2 4 4 0 1 1\n",
      " 1 3 3 0 2 3 0 4 3 2 3 0 2 0 3 0 1 3 3 3 3 2 3 4 1 2 2 1 3 2 2 2 3 2 0 1 0\n",
      " 2 3 2 3 0 2 2 3 3 0 2 3 2 2 0 3 4 3 3 4 3 3 2 2 4 2 3 3 1 1 1 4 3 3 2 0 2\n",
      " 1 0 3 0 3 3 3 3 2 4 2 2 1 0 1 3 2 2 2 1 2 1 1 2 2 2 1 2 4 4 3 2 2 1 3 2 3\n",
      " 0 1 2 2 0 3 2 1 2 0 2 3 4 1 2 4 1 1 0 3 3 0 0 2 2 2 0 0 1 1 2 0 2 2 1 0 0\n",
      " 2 2 1 0 4 3 2 2 2 3 4 3 2 4 4 4 2 3 2 0 1 2 1 2 3 3 2 3 1 1 2 3 2 2 1 4 2\n",
      " 3 2 4 2 3 2 2 4 2 1 3 2 2 0 2 3 2 1 0 1 3 2 2 2 2 2 2]\n"
     ]
    }
   ],
   "source": [
    "y_pred = knn.predict(X_test)\n",
    "print(\"Test set predictions:\\n {}\".format(y_pred))"
   ]
  },
  {
   "cell_type": "code",
   "execution_count": 218,
   "metadata": {
    "collapsed": false
   },
   "outputs": [
    {
     "name": "stdout",
     "output_type": "stream",
     "text": [
      "Test set score: 0.85\n"
     ]
    }
   ],
   "source": [
    "print(\"Test set score: {:.2f}\".format(np.mean(y_pred == y_test)))"
   ]
  },
  {
   "cell_type": "code",
   "execution_count": 219,
   "metadata": {
    "collapsed": false
   },
   "outputs": [
    {
     "name": "stdout",
     "output_type": "stream",
     "text": [
      "Test set score: 0.85\n"
     ]
    }
   ],
   "source": [
    "print(\"Test set score: {:.2f}\".format(knn.score(X_test, y_test)))"
   ]
  },
  {
   "cell_type": "code",
   "execution_count": 233,
   "metadata": {
    "collapsed": false
   },
   "outputs": [
    {
     "name": "stdout",
     "output_type": "stream",
     "text": [
      "Test set score: 0.92\n",
      "[[29 35 15 ...,  0  0  0]\n",
      " [31 37 13 ...,  0  0  0]\n",
      " [28 35 11 ...,  4  0  0]\n",
      " ..., \n",
      " [29 27 21 ...,  0  0  0]\n",
      " [28 26  4 ...,  0  0  0]\n",
      " [35 27 19 ...,  0  0  0]]\n"
     ]
    }
   ],
   "source": [
    "X_train, X_test, y_train, y_test = train_test_split(\n",
    "    dataset['data_cell'], dataset['target'], random_state=0)\n",
    "\n",
    "knn = KNeighborsClassifier(n_neighbors=7)\n",
    "knn.fit(X_train, y_train)\n",
    "\n",
    "print(\"Test set score: {:.2f}\".format(knn.score(X_test, y_test)))\n",
    "print(dataset['data_cell'])"
   ]
  },
  {
   "cell_type": "code",
   "execution_count": null,
   "metadata": {
    "collapsed": true
   },
   "outputs": [],
   "source": []
  }
 ],
 "metadata": {
  "kernelspec": {
   "display_name": "Python 3",
   "language": "python",
   "name": "python3"
  },
  "language_info": {
   "codemirror_mode": {
    "name": "ipython",
    "version": 3
   },
   "file_extension": ".py",
   "mimetype": "text/x-python",
   "name": "python",
   "nbconvert_exporter": "python",
   "pygments_lexer": "ipython3",
   "version": "3.6.0"
  }
 },
 "nbformat": 4,
 "nbformat_minor": 2
}
