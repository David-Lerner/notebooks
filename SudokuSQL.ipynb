{
 "cells": [
  {
   "cell_type": "code",
   "execution_count": 15,
   "metadata": {
    "collapsed": true
   },
   "outputs": [],
   "source": [
    "import sqlite3\n",
    "import numpy as np\n",
    "import pandas as pd\n",
    "import matplotlib.pyplot as plt\n",
    "from IPython.display import set_matplotlib_formats, display, HTML\n",
    "\n",
    "\n",
    "DB = '../data/puzzler.db'"
   ]
  },
  {
   "cell_type": "code",
   "execution_count": 16,
   "metadata": {
    "collapsed": false
   },
   "outputs": [
    {
     "name": "stdout",
     "output_type": "stream",
     "text": [
      "[[ 29 138  23   1   0   0   0   0   0   0]\n",
      " [ 31 124  23   0   0   0   0   0   0   0]\n",
      " [ 27 132  25   4   1   0   0   0   2   0]\n",
      " [ 28 127  27   0   1   0   0   3   0   0]\n",
      " [ 32  86  45   0   0   0   0   0   0   0]\n",
      " [ 31  95  54   0   0   0   0   0   0   0]\n",
      " [ 30 117  28   3   0   0   0   0   0   0]\n",
      " [ 32 116   0   0   0   0   0   0   0   0]\n",
      " [ 28 120  39   0   0   0   0   3   0   0]\n",
      " [ 28 111  46   1   3   0   0   0   0   0]]\n",
      "[[29 35 15  2  0  0  0  0  0  0]\n",
      " [31 37 13  0  0  0  0  0  0  0]\n",
      " [27 23 10 11  3  0  0  0  7  0]\n",
      " [28 35 11  0  3  0  0  4  0  0]\n",
      " [32 23 26  0  0  0  0  0  0  0]\n",
      " [31 23 27  0  0  0  0  0  0  0]\n",
      " [30 32 13  6  0  0  0  0  0  0]\n",
      " [32 49  0  0  0  0  0  0  0  0]\n",
      " [28 26 23  0  0  0  0  4  0  0]\n",
      " [28 17 29  3  4  0  0  0  0  0]]\n",
      "[[1 1 1 1 0 0 0 0 0 0]\n",
      " [1 1 1 0 0 0 0 0 0 0]\n",
      " [1 1 1 1 1 0 0 0 1 0]\n",
      " [1 1 1 0 1 0 0 1 0 0]\n",
      " [1 1 1 0 0 0 0 0 0 0]\n",
      " [1 1 1 0 0 0 0 0 0 0]\n",
      " [1 1 1 1 0 0 0 0 0 0]\n",
      " [1 1 0 0 0 0 0 0 0 0]\n",
      " [1 1 1 0 0 0 0 1 0 0]\n",
      " [1 1 1 1 1 0 0 0 0 0]]\n",
      "[3 2 4 3 2 2 3 0 3 4]\n",
      "['Ultra Easy' 'Easy' 'Medium' 'Hard' 'Diabolical']\n",
      "['given', 'Possible_Values', 'Hidden_Singles', 'Naked_Pairs', 'Naked_Triples', 'Hidden_Pairs', 'Hidden_Triples', 'Intersection_Removal', 'X_Wing', 'Brute_Force']\n"
     ]
    }
   ],
   "source": [
    "def load_sudokus(path):\n",
    "    conn = sqlite3.connect(path)\n",
    "    c = conn.cursor()\n",
    "    #c.execute('SELECT * FROM \"sudoku\" LIMIT 0, 10;')\n",
    "    c.execute('SELECT * FROM \"sudoku\";')\n",
    "    data = c.fetchall()\n",
    "    names = [member[0] for member in c.description]\n",
    "    dic = {'Diabolical': 4, 'Hard': 3, 'Medium': 2, 'Easy': 1, 'Ultra Easy': 0}\n",
    "    data_raw = np.array([row[3:] for row in data]) \n",
    "    dataset = {}\n",
    "    dataset['data'] = data_raw[:,:10]\n",
    "    dataset['data_cell'] = np.delete(data_raw, np.s_[1:10], 1)\n",
    "    dataset['data_bool'] = np.clip(data_raw[:,:10], 0, 1)\n",
    "    dataset['target'] = np.array([dic[name] for name in [row[2] for row in data]])\n",
    "    dataset['target_names'] = np.array(['Ultra Easy', 'Easy', 'Medium', 'Hard', 'Diabolical'])\n",
    "    dataset['feature_names'] = names[3:13]\n",
    "    c.close()\n",
    "    conn.close()\n",
    "    return dataset\n",
    "\n",
    "dataset = load_sudokus(DB)\n",
    "#print the first 10 results\n",
    "print(dataset['data'][:10])\n",
    "print(dataset['data_cell'][:10])\n",
    "print(dataset['data_bool'][:10])\n",
    "print(dataset['target'][:10])\n",
    "print(dataset['target_names'])\n",
    "print(dataset['feature_names'])\n"
   ]
  },
  {
   "cell_type": "code",
   "execution_count": 17,
   "metadata": {
    "collapsed": false
   },
   "outputs": [],
   "source": [
    "from sklearn.model_selection import train_test_split\n",
    "X_train, X_test, y_train, y_test = train_test_split(\n",
    "    dataset['data'], dataset['target'], random_state=0)"
   ]
  },
  {
   "cell_type": "code",
   "execution_count": 18,
   "metadata": {
    "collapsed": false
   },
   "outputs": [
    {
     "name": "stdout",
     "output_type": "stream",
     "text": [
      "X_train shape: (2077, 10)\n",
      "y_train shape: (2077,)\n"
     ]
    }
   ],
   "source": [
    "print(\"X_train shape: {}\".format(X_train.shape))\n",
    "print(\"y_train shape: {}\".format(y_train.shape))"
   ]
  },
  {
   "cell_type": "code",
   "execution_count": 19,
   "metadata": {
    "collapsed": false
   },
   "outputs": [
    {
     "name": "stdout",
     "output_type": "stream",
     "text": [
      "X_test shape: (693, 10)\n",
      "y_test shape: (693,)\n"
     ]
    }
   ],
   "source": [
    "print(\"X_test shape: {}\".format(X_test.shape))\n",
    "print(\"y_test shape: {}\".format(y_test.shape))"
   ]
  },
  {
   "cell_type": "markdown",
   "metadata": {},
   "source": [
    "# KNN Classifier for 'data'"
   ]
  },
  {
   "cell_type": "code",
   "execution_count": 20,
   "metadata": {
    "collapsed": true
   },
   "outputs": [],
   "source": [
    "from sklearn.neighbors import KNeighborsClassifier\n",
    "knn = KNeighborsClassifier(n_neighbors=1)"
   ]
  },
  {
   "cell_type": "code",
   "execution_count": 21,
   "metadata": {
    "collapsed": false
   },
   "outputs": [
    {
     "data": {
      "text/plain": [
       "KNeighborsClassifier(algorithm='auto', leaf_size=30, metric='minkowski',\n",
       "           metric_params=None, n_jobs=1, n_neighbors=1, p=2,\n",
       "           weights='uniform')"
      ]
     },
     "execution_count": 21,
     "metadata": {},
     "output_type": "execute_result"
    }
   ],
   "source": [
    "knn.fit(X_train, y_train)"
   ]
  },
  {
   "cell_type": "code",
   "execution_count": 22,
   "metadata": {
    "collapsed": false
   },
   "outputs": [
    {
     "name": "stdout",
     "output_type": "stream",
     "text": [
      "Test set predictions:\n",
      " [2 2 2 3 0 1 1 1 3 2 4 3 3 4 3 3 2 0 3 2 2 2 0 1 3 2 1 3 3 3 3 2 2 3 1 2 3\n",
      " 2 4 1 2 1 4 3 0 0 3 3 1 3 2 4 4 2 1 3 2 4 2 4 3 2 4 3 0 2 4 2 4 0 3 2 3 2\n",
      " 2 3 2 4 2 4 3 1 3 1 3 4 3 3 2 0 2 3 3 1 3 3 3 0 2 3 2 4 2 0 2 2 3 2 2 1 2\n",
      " 4 3 2 4 2 3 4 2 0 2 1 3 2 2 3 2 3 3 4 0 4 2 0 2 3 0 3 3 3 3 2 4 2 2 1 2 3\n",
      " 1 3 1 2 3 2 0 1 2 1 4 1 2 0 2 2 2 3 3 2 2 2 3 1 3 3 0 2 3 2 2 4 3 2 4 0 2\n",
      " 3 3 3 1 0 3 2 2 3 2 2 4 0 0 3 2 4 4 4 2 4 0 2 2 2 3 1 1 4 0 4 2 2 2 0 3 0\n",
      " 1 1 4 3 4 2 3 2 3 4 2 1 0 3 0 1 4 4 3 0 3 2 3 2 2 3 4 2 4 3 1 0 2 0 2 2 3\n",
      " 3 3 1 3 3 2 3 1 0 1 1 2 3 1 3 1 0 3 3 2 2 2 3 4 1 4 2 4 3 2 0 3 0 1 3 2 1\n",
      " 0 2 2 0 0 2 2 2 4 0 2 4 3 1 3 3 2 2 1 3 3 2 3 1 2 3 3 3 2 3 0 1 3 3 4 0 3\n",
      " 1 3 3 2 3 2 3 0 4 2 3 2 2 2 3 2 4 3 3 2 0 4 3 3 1 3 3 1 3 1 4 2 4 3 3 0 2\n",
      " 1 2 3 2 3 0 3 0 2 0 2 2 3 2 1 2 2 2 2 3 2 2 3 1 3 2 1 1 1 1 2 2 4 2 1 1 3\n",
      " 2 4 2 0 2 1 3 2 4 0 4 2 3 3 1 1 0 2 0 2 2 2 2 0 3 2 0 3 4 4 3 2 3 3 0 1 0\n",
      " 2 2 3 3 2 3 2 3 1 2 3 4 4 2 1 0 2 2 4 2 1 0 4 2 2 1 0 3 2 2 1 4 4 2 2 1 3\n",
      " 0 2 3 2 2 4 2 1 2 3 2 0 2 1 3 2 1 3 2 3 2 3 3 3 1 2 3 3 2 3 3 2 4 4 3 0 3\n",
      " 2 1 2 3 4 3 1 3 2 1 4 3 2 3 2 1 3 2 1 4 2 4 2 2 2 4 0 3 0 3 0 0 3 3 2 0 0\n",
      " 3 3 1 3 4 0 3 2 2 1 0 0 3 3 4 3 2 0 1 4 2 4 3 4 3 3 0 3 4 4 2 2 2 1 3 2 3\n",
      " 3 3 3 0 0 2 0 2 3 1 2 1 3 3 4 3 0 0 3 2 0 0 0 0 2 0 2 2 0 1 3 2 4 3 4 3 0\n",
      " 3 2 0 4 4 3 2 4 2 0 2 1 2 1 1 2 0 3 2 2 3 3 1 3 3 1 0 3 1 3 1 3 1 1 1 4 3\n",
      " 3 2 1 3 3 2 0 3 4 2 1 4 3 4 2 3 4 3 2 2 2 2 3 2 3 3 2]\n"
     ]
    }
   ],
   "source": [
    "y_pred = knn.predict(X_test)\n",
    "print(\"Test set predictions:\\n {}\".format(y_pred))"
   ]
  },
  {
   "cell_type": "code",
   "execution_count": 23,
   "metadata": {
    "collapsed": false
   },
   "outputs": [
    {
     "name": "stdout",
     "output_type": "stream",
     "text": [
      "Test set score: 0.85\n"
     ]
    }
   ],
   "source": [
    "print(\"Test set score: {:.2f}\".format(np.mean(y_pred == y_test)))"
   ]
  },
  {
   "cell_type": "code",
   "execution_count": 24,
   "metadata": {
    "collapsed": false
   },
   "outputs": [
    {
     "name": "stdout",
     "output_type": "stream",
     "text": [
      "Test set score: 0.85\n"
     ]
    }
   ],
   "source": [
    "print(\"Test set score: {:.2f}\".format(knn.score(X_test, y_test)))"
   ]
  },
  {
   "cell_type": "code",
   "execution_count": 25,
   "metadata": {
    "collapsed": false
   },
   "outputs": [
    {
     "data": {
      "text/plain": [
       "<matplotlib.legend.Legend at 0x154399a2748>"
      ]
     },
     "execution_count": 25,
     "metadata": {},
     "output_type": "execute_result"
    }
   ],
   "source": [
    "training_accuracy = []\n",
    "test_accuracy = []\n",
    "\n",
    "# try n_neighbors from 1 to 10.\n",
    "neighbors_settings = range(1, 11)\n",
    "\n",
    "for n_neighbors in neighbors_settings:\n",
    "    # build the model\n",
    "    clf = KNeighborsClassifier(n_neighbors=n_neighbors)\n",
    "    clf.fit(X_train, y_train)\n",
    "    # record training set accuracy\n",
    "    training_accuracy.append(clf.score(X_train, y_train))\n",
    "    # record generalization accuracy\n",
    "    test_accuracy.append(clf.score(X_test, y_test))\n",
    "#plot the results    \n",
    "plt.plot(neighbors_settings, training_accuracy, label=\"training accuracy\")\n",
    "plt.plot(neighbors_settings, test_accuracy, label=\"test accuracy\")\n",
    "plt.ylabel(\"Accuracy\")\n",
    "plt.xlabel(\"n_neighbors\")\n",
    "plt.legend()"
   ]
  },
  {
   "cell_type": "markdown",
   "metadata": {},
   "source": [
    "# KNN Classifier for 'data_cell'"
   ]
  },
  {
   "cell_type": "code",
   "execution_count": 26,
   "metadata": {
    "collapsed": false
   },
   "outputs": [
    {
     "name": "stdout",
     "output_type": "stream",
     "text": [
      "Test set score: 0.90\n",
      "[[29 35 15 ...,  0  0  0]\n",
      " [31 37 13 ...,  0  0  0]\n",
      " [27 23 10 ...,  0  7  0]\n",
      " ..., \n",
      " [29 26 21 ...,  0  0  0]\n",
      " [29 32 10 ...,  0  0  0]\n",
      " [32 27 22 ...,  0  0  0]]\n"
     ]
    }
   ],
   "source": [
    "X_train, X_test, y_train, y_test = train_test_split(\n",
    "    dataset['data_cell'], dataset['target'], random_state=0)\n",
    "\n",
    "knn = KNeighborsClassifier(n_neighbors=7)\n",
    "knn.fit(X_train, y_train)\n",
    "\n",
    "print(\"Test set score: {:.2f}\".format(knn.score(X_test, y_test)))\n",
    "print(dataset['data_cell'])"
   ]
  },
  {
   "cell_type": "markdown",
   "metadata": {},
   "source": [
    "# KNN Classifier for 'data_bool'"
   ]
  },
  {
   "cell_type": "code",
   "execution_count": 27,
   "metadata": {
    "collapsed": false
   },
   "outputs": [
    {
     "name": "stdout",
     "output_type": "stream",
     "text": [
      "Test set score: 0.79\n",
      "[[1 1 1 ..., 0 0 0]\n",
      " [1 1 1 ..., 0 0 0]\n",
      " [1 1 1 ..., 0 1 0]\n",
      " ..., \n",
      " [1 1 1 ..., 0 0 0]\n",
      " [1 1 1 ..., 0 0 0]\n",
      " [1 1 1 ..., 0 0 0]]\n"
     ]
    }
   ],
   "source": [
    "X_train, X_test, y_train, y_test = train_test_split(\n",
    "    dataset['data_bool'], dataset['target'], random_state=0)\n",
    "\n",
    "knn = KNeighborsClassifier(n_neighbors=7)\n",
    "knn.fit(X_train, y_train)\n",
    "\n",
    "print(\"Test set score: {:.2f}\".format(knn.score(X_test, y_test)))\n",
    "print(dataset['data_bool'])"
   ]
  },
  {
   "cell_type": "markdown",
   "metadata": {},
   "source": [
    "# Desicion Tree Classifier for 'data'"
   ]
  },
  {
   "cell_type": "code",
   "execution_count": 28,
   "metadata": {
    "collapsed": false
   },
   "outputs": [
    {
     "name": "stdout",
     "output_type": "stream",
     "text": [
      "Accuracy on training set: 0.996\n",
      "Accuracy on test set: 0.915\n"
     ]
    }
   ],
   "source": [
    "from sklearn.tree import DecisionTreeClassifier\n",
    "\n",
    "X_train, X_test, y_train, y_test = train_test_split(\n",
    "    dataset['data'], dataset['target'], random_state=0)\n",
    "\n",
    "#build the tree using the training data\n",
    "tree = DecisionTreeClassifier()\n",
    "tree.fit(X_train, y_train)\n",
    "\n",
    "#Print accuracy of the model\n",
    "print(\"Accuracy on training set: {:.3f}\".format(tree.score(X_train, y_train)))\n",
    "print(\"Accuracy on test set: {:.3f}\".format(tree.score(X_test, y_test)))"
   ]
  },
  {
   "cell_type": "code",
   "execution_count": 29,
   "metadata": {
    "collapsed": true
   },
   "outputs": [],
   "source": [
    "from sklearn.tree import export_graphviz\n",
    "\n",
    "export_graphviz(tree, out_file=\"tree.dot\", class_names=dataset['target_names'],\n",
    "                feature_names=dataset['feature_names'], impurity=True, filled=True)"
   ]
  },
  {
   "cell_type": "code",
   "execution_count": 30,
   "metadata": {
    "collapsed": false
   },
   "outputs": [
    {
     "data": {
      "text/plain": [
       "'Source.gv.pdf'"
      ]
     },
     "execution_count": 30,
     "metadata": {},
     "output_type": "execute_result"
    }
   ],
   "source": [
    "import graphviz\n",
    "with open(\"tree.dot\") as f:\n",
    "    dot_graph = f.read()\n",
    "graphviz.Source(dot_graph).render()"
   ]
  },
  {
   "cell_type": "markdown",
   "metadata": {},
   "source": [
    "# Feature Importance in trees"
   ]
  },
  {
   "cell_type": "code",
   "execution_count": 31,
   "metadata": {
    "collapsed": false
   },
   "outputs": [
    {
     "name": "stdout",
     "output_type": "stream",
     "text": [
      "Feature importances:\n",
      "[ 0.69835141  0.03719092  0.21480079  0.01141922  0.0052098   0.0030231   0.\n",
      "  0.00857272  0.02143205  0.        ]\n"
     ]
    }
   ],
   "source": [
    "print(\"Feature importances:\\n{}\".format(tree.feature_importances_))"
   ]
  },
  {
   "cell_type": "code",
   "execution_count": 32,
   "metadata": {
    "collapsed": true
   },
   "outputs": [],
   "source": [
    "import matplotlib.pyplot as plt\n",
    "%matplotlib inline"
   ]
  },
  {
   "cell_type": "code",
   "execution_count": 33,
   "metadata": {
    "collapsed": false
   },
   "outputs": [
    {
     "name": "stdout",
     "output_type": "stream",
     "text": [
      "10\n"
     ]
    },
    {
     "data": {
      "text/plain": [
       "(-1, 10)"
      ]
     },
     "execution_count": 33,
     "metadata": {},
     "output_type": "execute_result"
    },
    {
     "data": {
      "image/png": "[encoded data removed]",
      "text/plain": [
       "<matplotlib.figure.Figure at 0x154394f3f98>"
      ]
     },
     "metadata": {},
     "output_type": "display_data"
    }
   ],
   "source": [
    "n_features = dataset['data'].shape[1]\n",
    "print(n_features)\n",
    "plt.barh(range(n_features), tree.feature_importances_, align='center')\n",
    "plt.yticks(np.arange(n_features), dataset['feature_names'])\n",
    "plt.xlabel(\"Feature importance\")\n",
    "plt.ylabel(\"Feature\")\n",
    "plt.ylim(-1, n_features)"
   ]
  },
  {
   "cell_type": "code",
   "execution_count": 34,
   "metadata": {
    "collapsed": false
   },
   "outputs": [
    {
     "name": "stdout",
     "output_type": "stream",
     "text": [
      "10\n"
     ]
    },
    {
     "data": {
      "text/plain": [
       "(-1, 10)"
      ]
     },
     "execution_count": 34,
     "metadata": {},
     "output_type": "execute_result"
    },
    {
     "data": {
      "image/png": "[encoded data removed]",
      "text/plain": [
       "<matplotlib.figure.Figure at 0x15439662128>"
      ]
     },
     "metadata": {},
     "output_type": "display_data"
    }
   ],
   "source": [
    "n_features = dataset['data_cell'].shape[1]\n",
    "print(n_features)\n",
    "plt.barh(range(n_features), tree.feature_importances_, align='center')\n",
    "plt.yticks(np.arange(n_features), dataset['feature_names'])\n",
    "plt.xlabel(\"Feature importance\")\n",
    "plt.ylabel(\"Feature\")\n",
    "plt.ylim(-1, n_features)"
   ]
  },
  {
   "cell_type": "code",
   "execution_count": 35,
   "metadata": {
    "collapsed": false
   },
   "outputs": [
    {
     "name": "stdout",
     "output_type": "stream",
     "text": [
      "10\n"
     ]
    },
    {
     "data": {
      "text/plain": [
       "(-1, 10)"
      ]
     },
     "execution_count": 35,
     "metadata": {},
     "output_type": "execute_result"
    },
    {
     "data": {
      "image/png": "[encoded data removed]",
      "text/plain": [
       "<matplotlib.figure.Figure at 0x15439926978>"
      ]
     },
     "metadata": {},
     "output_type": "display_data"
    }
   ],
   "source": [
    "n_features = dataset['data_bool'].shape[1]\n",
    "print(n_features)\n",
    "plt.barh(range(n_features), tree.feature_importances_, align='center')\n",
    "plt.yticks(np.arange(n_features), dataset['feature_names'])\n",
    "plt.xlabel(\"Feature importance\")\n",
    "plt.ylabel(\"Feature\")\n",
    "plt.ylim(-1, n_features)"
   ]
  },
  {
   "cell_type": "markdown",
   "metadata": {},
   "source": [
    "# Desicion Tree Classifier for 'data_cell'"
   ]
  },
  {
   "cell_type": "code",
   "execution_count": 36,
   "metadata": {
    "collapsed": false
   },
   "outputs": [
    {
     "name": "stdout",
     "output_type": "stream",
     "text": [
      "Accuracy on training set: 0.987\n",
      "Accuracy on test set: 0.934\n"
     ]
    },
    {
     "data": {
      "text/plain": [
       "'Source.gv.pdf'"
      ]
     },
     "execution_count": 36,
     "metadata": {},
     "output_type": "execute_result"
    }
   ],
   "source": [
    "X_train, X_test, y_train, y_test = train_test_split(\n",
    "    dataset['data_cell'], dataset['target'], random_state=0)\n",
    "\n",
    "#build the tree using the training data\n",
    "tree = DecisionTreeClassifier()\n",
    "tree.fit(X_train, y_train)\n",
    "\n",
    "#Print accuracy of the model\n",
    "print(\"Accuracy on training set: {:.3f}\".format(tree.score(X_train, y_train)))\n",
    "print(\"Accuracy on test set: {:.3f}\".format(tree.score(X_test, y_test)))\n",
    "\n",
    "export_graphviz(tree, out_file=\"tree.dot\", class_names=dataset['target_names'],\n",
    "                feature_names=dataset['feature_names'], impurity=True, filled=True)\n",
    "\n",
    "with open(\"tree.dot\") as f:\n",
    "    dot_graph = f.read()\n",
    "graphviz.Source(dot_graph).render()"
   ]
  },
  {
   "cell_type": "markdown",
   "metadata": {},
   "source": [
    "# Decision Tree Classifier on 'data_bool'"
   ]
  },
  {
   "cell_type": "code",
   "execution_count": 37,
   "metadata": {
    "collapsed": true
   },
   "outputs": [],
   "source": [
    "X_train, X_test, y_train, y_test = train_test_split(\n",
    "    dataset['data_bool'], dataset['target'], random_state=0)"
   ]
  },
  {
   "cell_type": "code",
   "execution_count": 38,
   "metadata": {
    "collapsed": false
   },
   "outputs": [
    {
     "name": "stdout",
     "output_type": "stream",
     "text": [
      "Accuracy on training set: 0.810\n",
      "Accuracy on test set: 0.795\n"
     ]
    }
   ],
   "source": [
    "tree = DecisionTreeClassifier()\n",
    "tree.fit(X_train, y_train)\n",
    "\n",
    "#Print accuracy of the model\n",
    "print(\"Accuracy on training set: {:.3f}\".format(tree.score(X_train, y_train)))\n",
    "print(\"Accuracy on test set: {:.3f}\".format(tree.score(X_test, y_test)))"
   ]
  },
  {
   "cell_type": "code",
   "execution_count": 39,
   "metadata": {
    "collapsed": false
   },
   "outputs": [
    {
     "data": {
      "text/plain": [
       "'Source.gv.pdf'"
      ]
     },
     "execution_count": 39,
     "metadata": {},
     "output_type": "execute_result"
    }
   ],
   "source": [
    "export_graphviz(tree, out_file=\"treeBool.dot\", class_names=dataset['target_names'],\n",
    "                feature_names=dataset['feature_names'], impurity=True, filled=True)\n",
    "\n",
    "with open(\"treeBool.dot\") as f:\n",
    "    dot_graph = f.read()\n",
    "graphviz.Source(dot_graph).render()"
   ]
  },
  {
   "cell_type": "markdown",
   "metadata": {},
   "source": [
    "# Linear Regression"
   ]
  },
  {
   "cell_type": "code",
   "execution_count": 103,
   "metadata": {
    "collapsed": false
   },
   "outputs": [],
   "source": [
    "def avg_by_class(data, coef, intercept, target, labels):\n",
    "    avgs = []\n",
    "    for label in labels:\n",
    "        avgs.append([0,0,label])\n",
    "    for i in range(len(data)):\n",
    "        dot = np.dot(data[i,:], coef)+intercept\n",
    "        avgs[target[i]][0] += dot\n",
    "        avgs[target[i]][1] += 1\n",
    "    print(\"Average score by class:\")\n",
    "    for e in avgs:\n",
    "        print(\"{}: {:.3f}\".format(e[2], e[0]/e[1]))\n",
    "\n",
    "def evaluate_regr(data, coef, intercept, target):\n",
    "    count = 0;\n",
    "    for i in range(len(data)):\n",
    "        dot = np.dot(data[i,:], coef)+intercept\n",
    "        if (int(round(dot)) == target[i]):\n",
    "            count += 1\n",
    "    return count/len(data)"
   ]
  },
  {
   "cell_type": "code",
   "execution_count": 107,
   "metadata": {
    "collapsed": false
   },
   "outputs": [
    {
     "name": "stdout",
     "output_type": "stream",
     "text": [
      "Coefficients: \n",
      " [-0.31564061  0.00595505  0.0102608   0.02995759  0.03746034  0.09550099\n",
      "  0.26383384  0.02606311  0.265347    0.0497289 ]\n",
      "Intercept: \n",
      " 11.0874694522\n",
      "Mean squared error: 0.07\n",
      "Variance score: 0.95\n",
      "\n",
      "Average score by class:\n",
      "Ultra Easy: 0.127\n",
      "Easy: 0.977\n",
      "Medium: 1.964\n",
      "Hard: 3.094\n",
      "Diabolical: 3.729\n",
      "\n",
      "Training set score: 0.914\n",
      "Test set score: 0.935\n"
     ]
    }
   ],
   "source": [
    "from sklearn import linear_model\n",
    "\n",
    "X_train, X_test, y_train, y_test = train_test_split(\n",
    "    dataset['data'], dataset['target'], random_state=0)\n",
    "\n",
    "regr = linear_model.LinearRegression()\n",
    "regr.fit(X_train, y_train)\n",
    "\n",
    "print('Coefficients: \\n', regr.coef_)\n",
    "print('Intercept: \\n', regr.intercept_)\n",
    "print(\"Mean squared error: %.2f\"\n",
    "      % np.mean((regr.predict(X_test) - y_test) ** 2))\n",
    "# Explained variance score: 1 is perfect prediction\n",
    "print('Variance score: %.2f' % regr.score(X_test, y_test))\n",
    "print()\n",
    "avg_by_class(dataset['data'], regr.coef_, regr.intercept_, dataset['target'], dataset['target_names'])\n",
    "print()\n",
    "print(\"Training set score: {:.3f}\".format(evaluate_regr(X_train, regr.coef_, regr.intercept_, y_train)))\n",
    "print(\"Test set score: {:.3f}\".format(evaluate_regr(X_test, regr.coef_, regr.intercept_, y_test)))"
   ]
  },
  {
   "cell_type": "code",
   "execution_count": 109,
   "metadata": {
    "collapsed": false
   },
   "outputs": [
    {
     "name": "stdout",
     "output_type": "stream",
     "text": [
      "Coefficients: \n",
      " [-0.36095865 -0.00848647  0.00533652  0.00313647  0.00692632  0.03040368\n",
      "  0.18923609  0.00845493  0.10049982  0.02545128]\n",
      "Mean squared error: 0.08\n",
      "Variance score: 0.95\n",
      "Coefficients: \n",
      " [-0.36095865 -0.00848647  0.00533652  0.00313647  0.00692632  0.03040368\n",
      "  0.18923609  0.00845493  0.10049982  0.02545128]\n",
      "Intercept: \n",
      " 13.6770522158\n",
      "Mean squared error: 0.08\n",
      "Variance score: 0.95\n",
      "\n",
      "Average score by class:\n",
      "Ultra Easy: -0.249\n",
      "Easy: 0.499\n",
      "Medium: 1.357\n",
      "Hard: 2.328\n",
      "Diabolical: 2.780\n",
      "\n",
      "Training set score: 0.913\n",
      "Test set score: 0.925\n"
     ]
    }
   ],
   "source": [
    "X_train, X_test, y_train, y_test = train_test_split(\n",
    "    dataset['data_cell'], dataset['target'], random_state=0)\n",
    "\n",
    "regr = linear_model.LinearRegression()\n",
    "regr.fit(X_train, y_train)\n",
    "\n",
    "print('Coefficients: \\n', regr.coef_)\n",
    "\n",
    "print(\"Mean squared error: %.2f\"\n",
    "      % np.mean((regr.predict(X_test) - y_test) ** 2))\n",
    "# Explained variance score: 1 is perfect prediction\n",
    "print('Variance score: %.2f' % regr.score(X_test, y_test))\n",
    "\n",
    "print('Coefficients: \\n', regr.coef_)\n",
    "print('Intercept: \\n', regr.intercept_)\n",
    "print(\"Mean squared error: %.2f\"\n",
    "      % np.mean((regr.predict(X_test) - y_test) ** 2))\n",
    "# Explained variance score: 1 is perfect prediction\n",
    "print('Variance score: %.2f' % regr.score(X_test, y_test))\n",
    "print()\n",
    "avg_by_class(dataset['data'], regr.coef_, regr.intercept_, dataset['target'], dataset['target_names'])\n",
    "print()\n",
    "print(\"Training set score: {:.3f}\".format(evaluate_regr(X_train, regr.coef_, regr.intercept_, y_train)))\n",
    "print(\"Test set score: {:.3f}\".format(evaluate_regr(X_test, regr.coef_, regr.intercept_, y_test)))"
   ]
  },
  {
   "cell_type": "code",
   "execution_count": 110,
   "metadata": {
    "collapsed": false
   },
   "outputs": [
    {
     "name": "stdout",
     "output_type": "stream",
     "text": [
      "Coefficients: \n",
      " [  0.00000000e+00  -3.33066907e-16   1.82402212e+00   9.78351534e-01\n",
      "   3.43533682e-01   1.66039508e-01   4.40078144e-01   5.62764890e-01\n",
      "   8.76335610e-01   5.03214665e-01]\n",
      "Mean squared error: 0.23\n",
      "Variance score: 0.85\n",
      "Coefficients: \n",
      " [  0.00000000e+00  -3.33066907e-16   1.82402212e+00   9.78351534e-01\n",
      "   3.43533682e-01   1.66039508e-01   4.40078144e-01   5.62764890e-01\n",
      "   8.76335610e-01   5.03214665e-01]\n",
      "Intercept: \n",
      " 0.0129449838188\n",
      "Mean squared error: 0.23\n",
      "Variance score: 0.85\n",
      "\n",
      "Average score by class:\n",
      "Ultra Easy: 0.147\n",
      "Easy: 46.604\n",
      "Medium: 54.401\n",
      "Hard: 49.102\n",
      "Diabolical: 53.859\n",
      "\n",
      "Training set score: 0.723\n",
      "Test set score: 0.704\n"
     ]
    }
   ],
   "source": [
    "X_train, X_test, y_train, y_test = train_test_split(\n",
    "    dataset['data_bool'], dataset['target'], random_state=0)\n",
    "\n",
    "regr = linear_model.LinearRegression()\n",
    "regr.fit(X_train, y_train)\n",
    "\n",
    "print('Coefficients: \\n', regr.coef_)\n",
    "\n",
    "print(\"Mean squared error: %.2f\"\n",
    "      % np.mean((regr.predict(X_test) - y_test) ** 2))\n",
    "# Explained variance score: 1 is perfect prediction\n",
    "print('Variance score: %.2f' % regr.score(X_test, y_test))\n",
    "\n",
    "print('Coefficients: \\n', regr.coef_)\n",
    "print('Intercept: \\n', regr.intercept_)\n",
    "print(\"Mean squared error: %.2f\"\n",
    "      % np.mean((regr.predict(X_test) - y_test) ** 2))\n",
    "# Explained variance score: 1 is perfect prediction\n",
    "print('Variance score: %.2f' % regr.score(X_test, y_test))\n",
    "print()\n",
    "avg_by_class(dataset['data'], regr.coef_, regr.intercept_, dataset['target'], dataset['target_names'])\n",
    "print()\n",
    "print(\"Training set score: {:.3f}\".format(evaluate_regr(X_train, regr.coef_, regr.intercept_, y_train)))\n",
    "print(\"Test set score: {:.3f}\".format(evaluate_regr(X_test, regr.coef_, regr.intercept_, y_test)))"
   ]
  },
  {
   "cell_type": "markdown",
   "metadata": {},
   "source": [
    "# Logistic Regression"
   ]
  },
  {
   "cell_type": "code",
   "execution_count": 43,
   "metadata": {
    "collapsed": false,
    "scrolled": true
   },
   "outputs": [
    {
     "name": "stdout",
     "output_type": "stream",
     "text": [
      "Variance score: -1567.62\n",
      "Coefficients: \n",
      " [[  5.31977330e-01  -1.40255190e-01  -6.35662327e-01  -3.05269974e-02\n",
      "   -5.90499460e-03  -2.29039699e-03  -2.04296907e-05  -1.65871968e-02\n",
      "   -2.33780382e-03  -2.63076471e-05]\n",
      " [  2.12646374e-01  -6.04550422e-02   5.57548115e-02  -1.62018814e+00\n",
      "   -8.27767299e-01  -3.19249729e-01  -1.50745698e-03  -9.47824276e-01\n",
      "   -7.34197462e-01  -2.62566775e-02]\n",
      " [ -4.37134846e-01   1.03601052e-01   1.16607605e-01  -7.35972253e+00\n",
      "   -5.23739070e+00  -3.16822515e+00  -2.52386276e-03  -3.61268595e+00\n",
      "   -4.97420046e+00  -1.21759029e+00]\n",
      " [ -4.98646812e-01   9.19303788e-02   4.63767360e-02   5.87451708e-01\n",
      "    1.54053298e-01  -4.53573065e-01  -1.52921624e+00  -3.68498092e-03\n",
      "   -3.48873651e+00  -3.01132621e-01]\n",
      " [ -7.70339473e-01   1.16870771e-01   9.14397255e-02   2.52779335e-01\n",
      "    4.70441822e-01   6.96105880e-01   8.43806248e-01   3.70464021e-01\n",
      "    3.02197205e+00   2.68329584e-01]]\n",
      "Training set score: 0.906\n",
      "Test set score: 0.887\n"
     ]
    }
   ],
   "source": [
    "from sklearn.linear_model import LogisticRegression\n",
    "\n",
    "X_train, X_test, y_train, y_test = train_test_split(\n",
    "    dataset['data'], dataset['target'], random_state=0)\n",
    "\n",
    "# Explained variance score: 1 is perfect prediction\n",
    "print('Variance score: %.2f' % regr.score(X_test, y_test))\n",
    "logreg = LogisticRegression().fit(X_train, y_train)\n",
    "print('Coefficients: \\n', logreg.coef_)\n",
    "print(\"Training set score: {:.3f}\".format(logreg.score(X_train, y_train)))\n",
    "print(\"Test set score: {:.3f}\".format(logreg.score(X_test, y_test)))"
   ]
  },
  {
   "cell_type": "code",
   "execution_count": 44,
   "metadata": {
    "collapsed": false
   },
   "outputs": [
    {
     "name": "stdout",
     "output_type": "stream",
     "text": [
      "Variance score: -509.18\n",
      "Coefficients: \n",
      " [[  5.94740558e-01  -3.72555066e-01  -1.36542029e+00  -5.53130675e-01\n",
      "   -2.64959341e-01  -5.42717305e-02  -6.34531551e-05  -3.56050326e-01\n",
      "   -7.37971270e-02  -1.10462679e-04]\n",
      " [  6.54619954e-01  -5.66131760e-01  -3.13096923e-01  -1.05299070e+00\n",
      "   -7.59951048e-01  -3.04660816e-01  -5.39980427e-03  -7.25041489e-01\n",
      "   -5.48789236e-01  -5.48861496e-03]\n",
      " [ -8.38795005e-01   5.59290303e-01   6.61183708e-01  -6.04600658e+00\n",
      "   -3.00291304e+00  -2.64155371e+00  -3.19655996e-04  -2.43473129e+00\n",
      "   -3.34989679e+00  -1.02235645e+00]\n",
      " [ -8.04997325e-01   4.79661017e-01   4.38105019e-01   6.52129403e-01\n",
      "    4.55758469e-01   1.91744657e-01  -6.94932515e-01   3.26266667e-01\n",
      "   -1.12595605e+00   2.54505794e-02]\n",
      " [ -2.40531407e+00   1.26025987e+00   1.26726373e+00   1.26395752e+00\n",
      "    1.32038657e+00   1.52630645e+00   9.18673788e-01   1.31009685e+00\n",
      "    2.10556843e+00   7.31462807e-01]]\n",
      "Training set score: 0.918\n",
      "Test set score: 0.908\n"
     ]
    }
   ],
   "source": [
    "X_train, X_test, y_train, y_test = train_test_split(\n",
    "    dataset['data_cell'], dataset['target'], random_state=0)\n",
    "\n",
    "# Explained variance score: 1 is perfect prediction\n",
    "print('Variance score: %.2f' % regr.score(X_test, y_test))\n",
    "logreg = LogisticRegression().fit(X_train, y_train)\n",
    "print('Coefficients: \\n', logreg.coef_)\n",
    "print(\"Training set score: {:.3f}\".format(logreg.score(X_train, y_train)))\n",
    "print(\"Test set score: {:.3f}\".format(logreg.score(X_test, y_test)))"
   ]
  },
  {
   "cell_type": "code",
   "execution_count": 45,
   "metadata": {
    "collapsed": false
   },
   "outputs": [
    {
     "name": "stdout",
     "output_type": "stream",
     "text": [
      "Variance score: 0.85\n",
      "Coefficients: \n",
      " [[ 1.09384391  1.09384391 -8.09490863 -1.21842394 -0.45377038 -0.12764526\n",
      "  -0.00849359 -0.63920678 -0.36774992 -0.01916749]\n",
      " [-1.3340826  -1.3340826   3.21696407 -3.79234921 -2.11344918 -0.91197822\n",
      "  -0.01169525 -2.47483701 -1.72074007 -0.29283466]\n",
      " [-1.31665986 -1.31665986  4.52040574 -4.86905548 -2.77769303 -1.52855491\n",
      "  -0.0148064  -2.8203599  -2.28067775 -0.56481349]\n",
      " [-1.41289883 -1.41289883  1.98124289  3.87410139  1.25448027 -0.75600407\n",
      "  -1.46297125  0.76499112 -4.8248062   0.39633502]\n",
      " [-1.63370377 -1.63370377  0.6509738   0.87470194  1.01131379  0.95380788\n",
      "   1.0238643   2.08829714  4.79055414  0.44499335]]\n",
      "Training set score: 0.806\n",
      "Test set score: 0.791\n"
     ]
    }
   ],
   "source": [
    "X_train, X_test, y_train, y_test = train_test_split(\n",
    "    dataset['data_bool'], dataset['target'], random_state=0)\n",
    "\n",
    "# Explained variance score: 1 is perfect prediction\n",
    "print('Variance score: %.2f' % regr.score(X_test, y_test))\n",
    "logreg = LogisticRegression().fit(X_train, y_train)\n",
    "print('Coefficients: \\n', logreg.coef_)\n",
    "print(\"Training set score: {:.3f}\".format(logreg.score(X_train, y_train)))\n",
    "print(\"Test set score: {:.3f}\".format(logreg.score(X_test, y_test)))"
   ]
  },
  {
   "cell_type": "code",
   "execution_count": null,
   "metadata": {
    "collapsed": true
   },
   "outputs": [],
   "source": []
  },
  {
   "cell_type": "code",
   "execution_count": null,
   "metadata": {
    "collapsed": true
   },
   "outputs": [],
   "source": []
  }
 ],
 "metadata": {
  "kernelspec": {
   "display_name": "Python 3",
   "language": "python",
   "name": "python3"
  },
  "language_info": {
   "codemirror_mode": {
    "name": "ipython",
    "version": 3
   },
   "file_extension": ".py",
   "mimetype": "text/x-python",
   "name": "python",
   "nbconvert_exporter": "python",
   "pygments_lexer": "ipython3",
   "version": "3.6.0"
  }
 },
 "nbformat": 4,
 "nbformat_minor": 2
}
