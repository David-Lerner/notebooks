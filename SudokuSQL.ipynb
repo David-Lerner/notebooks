{
 "cells": [
  {
   "cell_type": "code",
   "execution_count": 1,
   "metadata": {
    "collapsed": true
   },
   "outputs": [],
   "source": [
    "import sqlite3\n",
    "import numpy as np\n",
    "import pandas as pd\n",
    "from IPython.display import display, HTML\n",
    "\n",
    "DB = '/Users/enkhturbadamsaikhan/CMPE188Sudoku/SudokuWebRipper/puzzler.db'"
   ]
  },
  {
   "cell_type": "code",
   "execution_count": 2,
   "metadata": {
    "collapsed": false
   },
   "outputs": [
    {
     "name": "stdout",
     "output_type": "stream",
     "text": [
      "[[ 29 138  23   1   0   0   0   0   0   0]\n",
      " [ 31 124  23   0   0   0   0   0   0   0]\n",
      " [ 28 127  27   0   1   0   0   3   0   0]\n",
      " [ 27 132  25   4   1   0   0   0   2   0]\n",
      " [ 33 126   0   0   0   0   0   0   0   0]\n",
      " [ 32 116   0   0   0   0   0   0   0   0]\n",
      " [ 32  86  45   0   0   0   0   0   0   0]\n",
      " [ 30 117  28   3   0   0   0   0   0   0]\n",
      " [ 31  95  54   0   0   0   0   0   0   0]\n",
      " [ 28 120  39   0   0   0   0   3   0   0]]\n",
      "[[29 35 15  2  0  0  0  0  0  0]\n",
      " [31 37 13  0  0  0  0  0  0  0]\n",
      " [28 35 11  0  3  0  0  4  0  0]\n",
      " [27 23 10 11  3  0  0  0  7  0]\n",
      " [33 48  0  0  0  0  0  0  0  0]\n",
      " [32 49  0  0  0  0  0  0  0  0]\n",
      " [32 23 26  0  0  0  0  0  0  0]\n",
      " [30 32 13  6  0  0  0  0  0  0]\n",
      " [31 23 27  0  0  0  0  0  0  0]\n",
      " [28 26 23  0  0  0  0  4  0  0]]\n",
      "[[1 1 1 1 0 0 0 0 0 0]\n",
      " [1 1 1 0 0 0 0 0 0 0]\n",
      " [1 1 1 0 1 0 0 1 0 0]\n",
      " [1 1 1 1 1 0 0 0 1 0]\n",
      " [1 1 0 0 0 0 0 0 0 0]\n",
      " [1 1 0 0 0 0 0 0 0 0]\n",
      " [1 1 1 0 0 0 0 0 0 0]\n",
      " [1 1 1 1 0 0 0 0 0 0]\n",
      " [1 1 1 0 0 0 0 0 0 0]\n",
      " [1 1 1 0 0 0 0 1 0 0]]\n",
      "[3 2 3 4 1 0 2 3 2 3]\n",
      "['Ultra Easy' 'Easy' 'Medium' 'Hard' 'Diabolical']\n",
      "['given', 'Possible_Values', 'Hidden_Singles', 'Naked_Pairs', 'Naked_Triples', 'Hidden_Pairs', 'Hidden_Triples', 'Intersection_Removal', 'X_Wing', 'Brute_Force']\n"
     ]
    }
   ],
   "source": [
    "def load_sudokus(path):\n",
    "    conn = sqlite3.connect(path)\n",
    "    c = conn.cursor()\n",
    "    #c.execute('SELECT * FROM \"sudoku\" LIMIT 0, 10;')\n",
    "    c.execute('SELECT * FROM \"sudoku\";')\n",
    "    data = c.fetchall()\n",
    "    names = [member[0] for member in c.description]\n",
    "    dic = {'Diabolical': 4, 'Hard': 3, 'Medium': 2, 'Easy': 1, 'Ultra Easy': 0}\n",
    "    data_raw = np.array([row[3:] for row in data]) \n",
    "    dataset = {}\n",
    "    dataset['data'] = data_raw[:,:10]\n",
    "    dataset['data_cell'] = np.delete(data_raw, np.s_[1:10], 1)\n",
    "    dataset['data_bool'] = np.clip(data_raw[:,:10], 0, 1)\n",
    "    dataset['target'] = np.array([dic[name] for name in [row[2] for row in data]])\n",
    "    dataset['target_names'] = np.array(['Ultra Easy', 'Easy', 'Medium', 'Hard', 'Diabolical'])\n",
    "    dataset['feature_names'] = names[3:13]\n",
    "    c.close()\n",
    "    conn.close()\n",
    "    return dataset\n",
    "\n",
    "dataset = load_sudokus(DB)\n",
    "#print the first 10 results\n",
    "print(dataset['data'][:10])\n",
    "print(dataset['data_cell'][:10])\n",
    "print(dataset['data_bool'][:10])\n",
    "print(dataset['target'][:10])\n",
    "print(dataset['target_names'])\n",
    "print(dataset['feature_names'])\n"
   ]
  },
  {
   "cell_type": "code",
   "execution_count": 3,
   "metadata": {
    "collapsed": false
   },
   "outputs": [],
   "source": [
    "from sklearn.model_selection import train_test_split\n",
    "X_train, X_test, y_train, y_test = train_test_split(\n",
    "    dataset['data'], dataset['target'], random_state=0)"
   ]
  },
  {
   "cell_type": "code",
   "execution_count": 4,
   "metadata": {
    "collapsed": false
   },
   "outputs": [
    {
     "name": "stdout",
     "output_type": "stream",
     "text": [
      "X_train shape: (2077, 10)\n",
      "y_train shape: (2077,)\n"
     ]
    }
   ],
   "source": [
    "print(\"X_train shape: {}\".format(X_train.shape))\n",
    "print(\"y_train shape: {}\".format(y_train.shape))"
   ]
  },
  {
   "cell_type": "code",
   "execution_count": 5,
   "metadata": {
    "collapsed": false
   },
   "outputs": [
    {
     "name": "stdout",
     "output_type": "stream",
     "text": [
      "X_test shape: (693, 10)\n",
      "y_test shape: (693,)\n"
     ]
    }
   ],
   "source": [
    "print(\"X_test shape: {}\".format(X_test.shape))\n",
    "print(\"y_test shape: {}\".format(y_test.shape))"
   ]
  },
  {
   "cell_type": "markdown",
   "metadata": {},
   "source": [
    "# KNN Classifier for 'data'"
   ]
  },
  {
   "cell_type": "code",
   "execution_count": 6,
   "metadata": {
    "collapsed": true
   },
   "outputs": [],
   "source": [
    "from sklearn.neighbors import KNeighborsClassifier\n",
    "knn = KNeighborsClassifier(n_neighbors=1)"
   ]
  },
  {
   "cell_type": "code",
   "execution_count": 7,
   "metadata": {
    "collapsed": false
   },
   "outputs": [
    {
     "data": {
      "text/plain": [
       "KNeighborsClassifier(algorithm='auto', leaf_size=30, metric='minkowski',\n",
       "           metric_params=None, n_jobs=1, n_neighbors=1, p=2,\n",
       "           weights='uniform')"
      ]
     },
     "execution_count": 7,
     "metadata": {},
     "output_type": "execute_result"
    }
   ],
   "source": [
    "knn.fit(X_train, y_train)"
   ]
  },
  {
   "cell_type": "code",
   "execution_count": 8,
   "metadata": {
    "collapsed": false
   },
   "outputs": [
    {
     "name": "stdout",
     "output_type": "stream",
     "text": [
      "Test set predictions:\n",
      " [3 2 2 4 2 4 1 1 4 2 3 2 3 4 2 0 2 1 3 2 3 0 2 0 3 3 0 2 3 2 4 0 3 0 1 0 2\n",
      " 1 4 0 2 3 3 4 3 2 4 3 0 2 3 3 2 4 3 2 2 3 0 2 0 0 3 3 0 2 4 0 4 0 3 3 2 2\n",
      " 0 3 2 2 1 2 3 2 3 3 3 3 3 2 2 3 4 4 3 0 1 3 3 1 2 2 3 2 2 3 1 3 2 3 3 2 0\n",
      " 3 1 3 2 1 0 0 3 3 4 2 3 2 3 2 2 3 2 2 1 0 1 3 4 2 1 1 2 1 3 2 0 0 2 1 2 1\n",
      " 3 2 4 2 3 3 3 3 2 3 4 3 2 4 2 2 3 2 3 3 4 1 3 1 3 3 1 2 0 2 3 3 3 4 0 3 3\n",
      " 2 2 1 3 3 1 3 3 1 4 3 3 0 1 3 2 3 3 2 2 3 1 3 2 3 1 3 3 1 2 3 2 3 0 3 0 2\n",
      " 3 4 1 4 4 2 3 1 2 1 3 1 3 2 4 4 4 3 2 2 2 3 4 1 2 0 0 2 4 3 4 0 2 1 3 3 0\n",
      " 1 4 1 0 3 2 2 1 1 3 3 2 3 3 3 1 0 2 3 1 0 4 2 2 1 1 2 1 2 0 0 3 4 1 3 1 0\n",
      " 1 3 2 4 2 2 3 3 3 3 0 2 3 0 0 1 1 4 3 4 3 1 2 4 3 2 4 1 3 3 3 1 3 2 1 1 0\n",
      " 1 3 3 3 3 2 3 1 4 1 2 1 4 3 2 0 2 4 0 2 0 2 3 0 1 3 3 4 2 4 2 3 4 2 1 0 1\n",
      " 3 2 2 3 2 4 3 3 0 0 2 3 3 2 0 3 1 2 3 0 0 1 4 1 2 3 2 2 2 1 3 0 4 1 4 3 3\n",
      " 2 1 2 3 0 2 3 2 3 0 1 2 2 3 0 1 0 4 2 3 2 2 0 2 4 3 0 2 1 4 0 4 2 2 4 4 1\n",
      " 2 0 2 3 3 3 3 3 1 2 4 4 1 2 1 3 2 2 4 1 2 4 2 3 3 1 0 4 1 2 2 2 4 4 0 1 1\n",
      " 1 3 3 0 2 3 0 4 3 2 3 0 2 0 3 0 1 3 3 3 3 2 3 4 1 2 2 1 3 2 2 2 3 2 0 1 0\n",
      " 2 3 2 3 0 2 2 3 3 0 2 3 2 2 0 3 4 3 3 4 3 3 2 2 4 2 3 3 1 1 1 4 3 3 2 0 2\n",
      " 1 0 3 0 3 3 3 3 2 4 2 2 1 0 1 3 2 2 2 1 2 1 1 2 2 2 1 2 4 4 3 2 2 1 3 2 3\n",
      " 0 1 2 2 0 3 2 1 2 0 2 3 4 1 2 4 1 1 0 3 3 0 0 2 2 2 0 0 1 1 2 0 2 2 1 0 0\n",
      " 2 2 1 0 4 3 2 2 2 3 4 3 2 4 4 4 2 3 2 0 1 2 1 2 3 3 2 3 1 1 2 3 2 2 1 4 2\n",
      " 3 2 4 2 3 2 2 4 2 1 3 2 2 0 2 3 2 1 0 1 3 2 2 2 2 2 2]\n"
     ]
    }
   ],
   "source": [
    "y_pred = knn.predict(X_test)\n",
    "print(\"Test set predictions:\\n {}\".format(y_pred))"
   ]
  },
  {
   "cell_type": "code",
   "execution_count": 9,
   "metadata": {
    "collapsed": false
   },
   "outputs": [
    {
     "name": "stdout",
     "output_type": "stream",
     "text": [
      "Test set score: 0.85\n"
     ]
    }
   ],
   "source": [
    "print(\"Test set score: {:.2f}\".format(np.mean(y_pred == y_test)))"
   ]
  },
  {
   "cell_type": "code",
   "execution_count": 10,
   "metadata": {
    "collapsed": false
   },
   "outputs": [
    {
     "name": "stdout",
     "output_type": "stream",
     "text": [
      "Test set score: 0.85\n"
     ]
    }
   ],
   "source": [
    "print(\"Test set score: {:.2f}\".format(knn.score(X_test, y_test)))"
   ]
  },
  {
   "cell_type": "code",
   "execution_count": 68,
   "metadata": {
    "collapsed": false
   },
   "outputs": [
    {
     "data": {
      "text/plain": [
       "<matplotlib.legend.Legend at 0x120152d30>"
      ]
     },
     "execution_count": 68,
     "metadata": {},
     "output_type": "execute_result"
    },
    {
     "data": {
      "image/png": "[encoded data removed]",
      "text/plain": [
       "<matplotlib.figure.Figure at 0x11fedca90>"
      ]
     },
     "metadata": {},
     "output_type": "display_data"
    }
   ],
   "source": [
    "training_accuracy = []\n",
    "test_accuracy = []\n",
    "\n",
    "# try n_neighbors from 1 to 10.\n",
    "neighbors_settings = range(1, 11)\n",
    "\n",
    "for n_neighbors in neighbors_settings:\n",
    "    # build the model\n",
    "    clf = KNeighborsClassifier(n_neighbors=n_neighbors)\n",
    "    clf.fit(X_train, y_train)\n",
    "    # record training set accuracy\n",
    "    training_accuracy.append(clf.score(X_train, y_train))\n",
    "    # record generalization accuracy\n",
    "    test_accuracy.append(clf.score(X_test, y_test))\n",
    "#plot the results    \n",
    "plt.plot(neighbors_settings, training_accuracy, label=\"training accuracy\")\n",
    "plt.plot(neighbors_settings, test_accuracy, label=\"test accuracy\")\n",
    "plt.ylabel(\"Accuracy\")\n",
    "plt.xlabel(\"n_neighbors\")\n",
    "plt.legend()"
   ]
  },
  {
   "cell_type": "markdown",
   "metadata": {},
   "source": [
    "# KNN Classifier for 'data_cell'"
   ]
  },
  {
   "cell_type": "code",
   "execution_count": 11,
   "metadata": {
    "collapsed": false
   },
   "outputs": [
    {
     "name": "stdout",
     "output_type": "stream",
     "text": [
      "Test set score: 0.92\n",
      "[[29 35 15 ...,  0  0  0]\n",
      " [31 37 13 ...,  0  0  0]\n",
      " [28 35 11 ...,  4  0  0]\n",
      " ..., \n",
      " [29 27 21 ...,  0  0  0]\n",
      " [28 26  4 ...,  0  0  0]\n",
      " [35 27 19 ...,  0  0  0]]\n"
     ]
    }
   ],
   "source": [
    "X_train, X_test, y_train, y_test = train_test_split(\n",
    "    dataset['data_cell'], dataset['target'], random_state=0)\n",
    "\n",
    "knn = KNeighborsClassifier(n_neighbors=7)\n",
    "knn.fit(X_train, y_train)\n",
    "\n",
    "print(\"Test set score: {:.2f}\".format(knn.score(X_test, y_test)))\n",
    "print(dataset['data_cell'])"
   ]
  },
  {
   "cell_type": "markdown",
   "metadata": {},
   "source": [
    "# KNN Classifier for 'data_bool'"
   ]
  },
  {
   "cell_type": "code",
   "execution_count": 33,
   "metadata": {
    "collapsed": false
   },
   "outputs": [
    {
     "name": "stdout",
     "output_type": "stream",
     "text": [
      "Test set score: 0.79\n",
      "[[1 1 1 ..., 0 0 0]\n",
      " [1 1 1 ..., 0 0 0]\n",
      " [1 1 1 ..., 1 0 0]\n",
      " ..., \n",
      " [1 1 1 ..., 0 0 0]\n",
      " [1 1 1 ..., 0 0 0]\n",
      " [1 1 1 ..., 0 0 0]]\n"
     ]
    }
   ],
   "source": [
    "X_train, X_test, y_train, y_test = train_test_split(\n",
    "    dataset['data_bool'], dataset['target'], random_state=0)\n",
    "\n",
    "knn = KNeighborsClassifier(n_neighbors=7)\n",
    "knn.fit(X_train, y_train)\n",
    "\n",
    "print(\"Test set score: {:.2f}\".format(knn.score(X_test, y_test)))\n",
    "print(dataset['data_bool'])"
   ]
  },
  {
   "cell_type": "markdown",
   "metadata": {},
   "source": [
    "# Desicion Tree Classifier for 'data'"
   ]
  },
  {
   "cell_type": "code",
   "execution_count": 34,
   "metadata": {
    "collapsed": false
   },
   "outputs": [
    {
     "name": "stdout",
     "output_type": "stream",
     "text": [
      "Accuracy on training set: 0.998\n",
      "Accuracy on test set: 0.921\n"
     ]
    }
   ],
   "source": [
    "from sklearn.tree import DecisionTreeClassifier\n",
    "\n",
    "X_train, X_test, y_train, y_test = train_test_split(\n",
    "    dataset['data'], dataset['target'], random_state=0)\n",
    "\n",
    "#build the tree using the training data\n",
    "tree = DecisionTreeClassifier()\n",
    "tree.fit(X_train, y_train)\n",
    "\n",
    "#Print accuracy of the model\n",
    "print(\"Accuracy on training set: {:.3f}\".format(tree.score(X_train, y_train)))\n",
    "print(\"Accuracy on test set: {:.3f}\".format(tree.score(X_test, y_test)))"
   ]
  },
  {
   "cell_type": "code",
   "execution_count": 13,
   "metadata": {
    "collapsed": true
   },
   "outputs": [],
   "source": [
    "from sklearn.tree import export_graphviz\n",
    "\n",
    "export_graphviz(tree, out_file=\"tree.dot\", class_names=dataset['target_names'],\n",
    "                feature_names=dataset['feature_names'], impurity=True, filled=True)"
   ]
  },
  {
   "cell_type": "code",
   "execution_count": 18,
   "metadata": {
    "collapsed": false
   },
   "outputs": [
    {
     "data": {
      "text/plain": [
       "'Source.gv.pdf'"
      ]
     },
     "execution_count": 18,
     "metadata": {},
     "output_type": "execute_result"
    }
   ],
   "source": [
    "import graphviz\n",
    "with open(\"tree.dot\") as f:\n",
    "    dot_graph = f.read()\n",
    "graphviz.Source(dot_graph).render()"
   ]
  },
  {
   "cell_type": "markdown",
   "metadata": {},
   "source": [
    "# Feature Importance in trees"
   ]
  },
  {
   "cell_type": "code",
   "execution_count": 44,
   "metadata": {
    "collapsed": false
   },
   "outputs": [
    {
     "name": "stdout",
     "output_type": "stream",
     "text": [
      "Feature importances:\n",
      "[ 0.71856043  0.03138366  0.18906095  0.01024555  0.01352452  0.0030268   0.\n",
      "  0.01206645  0.02213164  0.        ]\n"
     ]
    }
   ],
   "source": [
    "print(\"Feature importances:\\n{}\".format(tree.feature_importances_))"
   ]
  },
  {
   "cell_type": "code",
   "execution_count": 63,
   "metadata": {
    "collapsed": true
   },
   "outputs": [],
   "source": [
    "import matplotlib.pyplot as plt\n",
    "%matplotlib inline"
   ]
  },
  {
   "cell_type": "code",
   "execution_count": 64,
   "metadata": {
    "collapsed": false
   },
   "outputs": [
    {
     "name": "stdout",
     "output_type": "stream",
     "text": [
      "10\n"
     ]
    },
    {
     "data": {
      "text/plain": [
       "(-1, 10)"
      ]
     },
     "execution_count": 64,
     "metadata": {},
     "output_type": "execute_result"
    },
    {
     "data": {
      "image/png": "[encoded data removed]",
      "text/plain": [
       "<matplotlib.figure.Figure at 0x11faa4ac8>"
      ]
     },
     "metadata": {},
     "output_type": "display_data"
    }
   ],
   "source": [
    "n_features = dataset['data'].shape[1]\n",
    "print(n_features)\n",
    "plt.barh(range(n_features), tree.feature_importances_, align='center')\n",
    "plt.yticks(np.arange(n_features), dataset['feature_names'])\n",
    "plt.xlabel(\"Feature importance\")\n",
    "plt.ylabel(\"Feature\")\n",
    "plt.ylim(-1, n_features)"
   ]
  },
  {
   "cell_type": "code",
   "execution_count": 65,
   "metadata": {
    "collapsed": false
   },
   "outputs": [
    {
     "name": "stdout",
     "output_type": "stream",
     "text": [
      "10\n"
     ]
    },
    {
     "data": {
      "text/plain": [
       "(-1, 10)"
      ]
     },
     "execution_count": 65,
     "metadata": {},
     "output_type": "execute_result"
    },
    {
     "data": {
      "image/png": "[encoded data removed]",
      "text/plain": [
       "<matplotlib.figure.Figure at 0x11fc9d0b8>"
      ]
     },
     "metadata": {},
     "output_type": "display_data"
    }
   ],
   "source": [
    "n_features = dataset['data_cell'].shape[1]\n",
    "print(n_features)\n",
    "plt.barh(range(n_features), tree.feature_importances_, align='center')\n",
    "plt.yticks(np.arange(n_features), dataset['feature_names'])\n",
    "plt.xlabel(\"Feature importance\")\n",
    "plt.ylabel(\"Feature\")\n",
    "plt.ylim(-1, n_features)"
   ]
  },
  {
   "cell_type": "code",
   "execution_count": 66,
   "metadata": {
    "collapsed": false
   },
   "outputs": [
    {
     "name": "stdout",
     "output_type": "stream",
     "text": [
      "10\n"
     ]
    },
    {
     "data": {
      "text/plain": [
       "(-1, 10)"
      ]
     },
     "execution_count": 66,
     "metadata": {},
     "output_type": "execute_result"
    },
    {
     "data": {
      "image/png": "[encoded data removed]",
      "text/plain": [
       "<matplotlib.figure.Figure at 0x11fe09dd8>"
      ]
     },
     "metadata": {},
     "output_type": "display_data"
    }
   ],
   "source": [
    "n_features = dataset['data_bool'].shape[1]\n",
    "print(n_features)\n",
    "plt.barh(range(n_features), tree.feature_importances_, align='center')\n",
    "plt.yticks(np.arange(n_features), dataset['feature_names'])\n",
    "plt.xlabel(\"Feature importance\")\n",
    "plt.ylabel(\"Feature\")\n",
    "plt.ylim(-1, n_features)"
   ]
  },
  {
   "cell_type": "markdown",
   "metadata": {},
   "source": [
    "# Desicion Tree Classifier for 'data_cell'"
   ]
  },
  {
   "cell_type": "code",
   "execution_count": 35,
   "metadata": {
    "collapsed": false
   },
   "outputs": [
    {
     "name": "stdout",
     "output_type": "stream",
     "text": [
      "Accuracy on training set: 0.987\n",
      "Accuracy on test set: 0.924\n"
     ]
    },
    {
     "data": {
      "text/plain": [
       "'Source.gv.pdf'"
      ]
     },
     "execution_count": 35,
     "metadata": {},
     "output_type": "execute_result"
    }
   ],
   "source": [
    "X_train, X_test, y_train, y_test = train_test_split(\n",
    "    dataset['data_cell'], dataset['target'], random_state=0)\n",
    "\n",
    "#build the tree using the training data\n",
    "tree = DecisionTreeClassifier()\n",
    "tree.fit(X_train, y_train)\n",
    "\n",
    "#Print accuracy of the model\n",
    "print(\"Accuracy on training set: {:.3f}\".format(tree.score(X_train, y_train)))\n",
    "print(\"Accuracy on test set: {:.3f}\".format(tree.score(X_test, y_test)))\n",
    "\n",
    "export_graphviz(tree, out_file=\"tree.dot\", class_names=dataset['target_names'],\n",
    "                feature_names=dataset['feature_names'], impurity=True, filled=True)\n",
    "\n",
    "with open(\"tree.dot\") as f:\n",
    "    dot_graph = f.read()\n",
    "graphviz.Source(dot_graph).render()"
   ]
  },
  {
   "cell_type": "markdown",
   "metadata": {},
   "source": [
    "# Decision Tree Classifier on 'data_bool'"
   ]
  },
  {
   "cell_type": "code",
   "execution_count": 15,
   "metadata": {
    "collapsed": true
   },
   "outputs": [],
   "source": [
    "X_train, X_test, y_train, y_test = train_test_split(\n",
    "    dataset['data_bool'], dataset['target'], random_state=0)"
   ]
  },
  {
   "cell_type": "code",
   "execution_count": 16,
   "metadata": {
    "collapsed": false
   },
   "outputs": [
    {
     "name": "stdout",
     "output_type": "stream",
     "text": [
      "Accuracy on training set: 0.809\n",
      "Accuracy on test set: 0.795\n"
     ]
    }
   ],
   "source": [
    "tree = DecisionTreeClassifier()\n",
    "tree.fit(X_train, y_train)\n",
    "\n",
    "#Print accuracy of the model\n",
    "print(\"Accuracy on training set: {:.3f}\".format(tree.score(X_train, y_train)))\n",
    "print(\"Accuracy on test set: {:.3f}\".format(tree.score(X_test, y_test)))"
   ]
  },
  {
   "cell_type": "code",
   "execution_count": 19,
   "metadata": {
    "collapsed": false
   },
   "outputs": [
    {
     "data": {
      "text/plain": [
       "'Source.gv.pdf'"
      ]
     },
     "execution_count": 19,
     "metadata": {},
     "output_type": "execute_result"
    }
   ],
   "source": [
    "export_graphviz(tree, out_file=\"treeBool.dot\", class_names=dataset['target_names'],\n",
    "                feature_names=dataset['feature_names'], impurity=True, filled=True)\n",
    "\n",
    "with open(\"treeBool.dot\") as f:\n",
    "    dot_graph = f.read()\n",
    "graphviz.Source(dot_graph).render()"
   ]
  },
  {
   "cell_type": "markdown",
   "metadata": {},
   "source": [
    "# Linear Regression"
   ]
  },
  {
   "cell_type": "code",
   "execution_count": 37,
   "metadata": {
    "collapsed": false
   },
   "outputs": [
    {
     "name": "stdout",
     "output_type": "stream",
     "text": [
      "Coefficients: \n",
      " [-0.31552809  0.00588418  0.00990562  0.03325004  0.04861615  0.11842484\n",
      "  0.23749233  0.02538509  0.27559406  0.0323109 ]\n",
      "Mean squared error: 0.07\n",
      "Variance score: 0.95\n"
     ]
    }
   ],
   "source": [
    "from sklearn import linear_model\n",
    "import matplotlib.pyplot as plt\n",
    "\n",
    "X_train, X_test, y_train, y_test = train_test_split(\n",
    "    dataset['data'], dataset['target'], random_state=0)\n",
    "\n",
    "regr = linear_model.LinearRegression()\n",
    "regr.fit(X_train, y_train)\n",
    "\n",
    "print('Coefficients: \\n', regr.coef_)\n",
    "\n",
    "print(\"Mean squared error: %.2f\"\n",
    "      % np.mean((regr.predict(X_test) - y_test) ** 2))\n",
    "# Explained variance score: 1 is perfect prediction\n",
    "print('Variance score: %.2f' % regr.score(X_test, y_test))\n",
    "\n",
    "# Plot outputs\n",
    "#plt.scatter(X_test, y_test,  color='black')\n",
    "#plt.plot(X_test, regr.predict(y_test), color='blue',\n",
    "#         linewidth=3)\n",
    "\n",
    "#plt.xticks(())\n",
    "#plt.yticks(())\n",
    "\n",
    "#plt.show()"
   ]
  },
  {
   "cell_type": "code",
   "execution_count": 38,
   "metadata": {
    "collapsed": false
   },
   "outputs": [
    {
     "name": "stdout",
     "output_type": "stream",
     "text": [
      "Coefficients: \n",
      " [-0.35872801 -0.00550817  0.00787932  0.00741885  0.01446911  0.04047261\n",
      "  0.15250464  0.01146767  0.09892823  0.03109575]\n",
      "Mean squared error: 0.08\n",
      "Variance score: 0.95\n"
     ]
    }
   ],
   "source": [
    "X_train, X_test, y_train, y_test = train_test_split(\n",
    "    dataset['data_cell'], dataset['target'], random_state=0)\n",
    "\n",
    "regr = linear_model.LinearRegression()\n",
    "regr.fit(X_train, y_train)\n",
    "\n",
    "print('Coefficients: \\n', regr.coef_)\n",
    "\n",
    "print(\"Mean squared error: %.2f\"\n",
    "      % np.mean((regr.predict(X_test) - y_test) ** 2))\n",
    "# Explained variance score: 1 is perfect prediction\n",
    "print('Variance score: %.2f' % regr.score(X_test, y_test))"
   ]
  },
  {
   "cell_type": "code",
   "execution_count": 39,
   "metadata": {
    "collapsed": false
   },
   "outputs": [
    {
     "name": "stdout",
     "output_type": "stream",
     "text": [
      "Coefficients: \n",
      " [  0.00000000e+00  -5.55111512e-16   1.83025004e+00   9.74895400e-01\n",
      "   3.57900954e-01   1.58713974e-01   2.36596807e-01   5.78554385e-01\n",
      "   8.55849257e-01   4.76460540e-01]\n",
      "Mean squared error: 0.23\n",
      "Variance score: 0.85\n"
     ]
    }
   ],
   "source": [
    "X_train, X_test, y_train, y_test = train_test_split(\n",
    "    dataset['data_bool'], dataset['target'], random_state=0)\n",
    "\n",
    "regr = linear_model.LinearRegression()\n",
    "regr.fit(X_train, y_train)\n",
    "\n",
    "print('Coefficients: \\n', regr.coef_)\n",
    "\n",
    "print(\"Mean squared error: %.2f\"\n",
    "      % np.mean((regr.predict(X_test) - y_test) ** 2))\n",
    "# Explained variance score: 1 is perfect prediction\n",
    "print('Variance score: %.2f' % regr.score(X_test, y_test))"
   ]
  },
  {
   "cell_type": "markdown",
   "metadata": {},
   "source": [
    "# Logistic Regression"
   ]
  },
  {
   "cell_type": "code",
   "execution_count": 41,
   "metadata": {
    "collapsed": false,
    "scrolled": true
   },
   "outputs": [
    {
     "name": "stdout",
     "output_type": "stream",
     "text": [
      "Variance score: 0.95\n",
      "Coefficients: \n",
      " [[  5.27049881e-01  -1.38615209e-01  -6.20712953e-01  -3.27522198e-02\n",
      "   -6.60262045e-03  -2.32622506e-03  -2.95498552e-05  -1.79328304e-02\n",
      "   -2.38142835e-03  -3.31244619e-05]\n",
      " [  2.10912072e-01  -6.24342698e-02   5.52403050e-02  -1.40835416e+00\n",
      "   -8.09922954e-01  -3.35494763e-01  -2.03672571e-03  -9.23679119e-01\n",
      "   -5.86947064e-01  -2.61538290e-02]\n",
      " [ -4.26107127e-01   1.01411114e-01   1.12373730e-01  -7.17025610e+00\n",
      "   -5.56536940e+00  -2.97450823e+00  -1.39727532e-03  -4.09202352e+00\n",
      "   -4.80398735e+00  -1.97137107e+00]\n",
      " [ -4.92537719e-01   8.72162919e-02   4.52831859e-02   5.59610769e-01\n",
      "    9.77511118e-02  -3.98352667e-01  -1.50207755e+00  -1.59837581e-02\n",
      "   -3.37255849e+00  -1.27433438e-01]\n",
      " [ -7.60862947e-01   1.14318403e-01   8.61389156e-02   2.98657730e-01\n",
      "    5.75240102e-01   7.92139772e-01   9.73579269e-01   3.75605771e-01\n",
      "    3.08595625e+00   1.56803661e-02]]\n",
      "Training set score: 0.900\n",
      "Test set score: 0.893\n"
     ]
    }
   ],
   "source": [
    "from sklearn.linear_model import LogisticRegression\n",
    "\n",
    "X_train, X_test, y_train, y_test = train_test_split(\n",
    "    dataset['data'], dataset['target'], random_state=0)\n",
    "\n",
    "# Explained variance score: 1 is perfect prediction\n",
    "print('Variance score: %.2f' % regr.score(X_test, y_test))\n",
    "logreg = LogisticRegression().fit(X_train, y_train)\n",
    "print('Coefficients: \\n', logreg.coef_)\n",
    "print(\"Training set score: {:.3f}\".format(logreg.score(X_train, y_train)))\n",
    "print(\"Test set score: {:.3f}\".format(logreg.score(X_test, y_test)))"
   ]
  },
  {
   "cell_type": "code",
   "execution_count": 42,
   "metadata": {
    "collapsed": false
   },
   "outputs": [
    {
     "name": "stdout",
     "output_type": "stream",
     "text": [
      "Variance score: 0.77\n",
      "Coefficients: \n",
      " [[  6.27023701e-01  -3.94162607e-01  -1.35365826e+00  -5.34148840e-01\n",
      "   -2.80547785e-01  -5.84489420e-02  -8.09761879e-05  -3.78651170e-01\n",
      "   -7.89457341e-02  -1.72899095e-04]\n",
      " [  6.51850889e-01  -5.64401447e-01  -3.15087784e-01  -9.76391921e-01\n",
      "   -7.78714154e-01  -3.39339192e-01  -5.64435937e-03  -7.58563777e-01\n",
      "   -4.95431153e-01  -6.04806615e-03]\n",
      " [ -8.35033370e-01   5.59235927e-01   6.54982627e-01  -5.57645712e+00\n",
      "   -3.82797023e+00  -2.69349611e+00  -1.13831992e-04  -2.99820399e+00\n",
      "   -3.45930086e+00  -1.92902165e+00]\n",
      " [ -7.86002679e-01   4.66888545e-01   4.28803147e-01   6.31357769e-01\n",
      "    4.12463294e-01   2.14447003e-01  -8.02031299e-01   3.22606227e-01\n",
      "   -1.05093816e+00   2.37025807e-01]\n",
      " [ -2.41232013e+00   1.26596925e+00   1.27008818e+00   1.29092706e+00\n",
      "    1.34385566e+00   1.61336292e+00   1.08033882e+00   1.30649574e+00\n",
      "    2.03464471e+00   6.44428775e-01]]\n",
      "Training set score: 0.915\n",
      "Test set score: 0.918\n"
     ]
    }
   ],
   "source": [
    "X_train, X_test, y_train, y_test = train_test_split(\n",
    "    dataset['data_cell'], dataset['target'], random_state=0)\n",
    "\n",
    "# Explained variance score: 1 is perfect prediction\n",
    "print('Variance score: %.2f' % regr.score(X_test, y_test))\n",
    "logreg = LogisticRegression().fit(X_train, y_train)\n",
    "print('Coefficients: \\n', logreg.coef_)\n",
    "print(\"Training set score: {:.3f}\".format(logreg.score(X_train, y_train)))\n",
    "print(\"Test set score: {:.3f}\".format(logreg.score(X_test, y_test)))"
   ]
  },
  {
   "cell_type": "code",
   "execution_count": 43,
   "metadata": {
    "collapsed": false
   },
   "outputs": [
    {
     "name": "stdout",
     "output_type": "stream",
     "text": [
      "Variance score: -50.53\n",
      "Coefficients: \n",
      " [[ 1.08894993  1.08894993 -8.07560098 -1.2184127  -0.46264338 -0.13132497\n",
      "  -0.01151441 -0.65845135 -0.3744026  -0.02489862]\n",
      " [-1.33026268 -1.33026268  3.18943794 -3.77652173 -2.11870499 -0.91674158\n",
      "  -0.01294336 -2.49785189 -1.69594964 -0.46897536]\n",
      " [-1.31151836 -1.31151836  4.52221062 -4.87487383 -3.04886688 -1.53567613\n",
      "  -0.01143748 -3.04257955 -2.2484325  -0.88580274]\n",
      " [-1.40304918 -1.40304918  2.04694173  3.64285924  1.1470752  -0.57553858\n",
      "  -1.54898574  0.70771145 -4.54898559  0.61798577]\n",
      " [-1.63494693 -1.63494693  0.60130137  1.08964552  1.04045455  0.84630548\n",
      "   0.96859139  2.07540397  4.69096128  0.29010832]]\n",
      "Training set score: 0.805\n",
      "Test set score: 0.795\n"
     ]
    }
   ],
   "source": [
    "X_train, X_test, y_train, y_test = train_test_split(\n",
    "    dataset['data_bool'], dataset['target'], random_state=0)\n",
    "\n",
    "# Explained variance score: 1 is perfect prediction\n",
    "print('Variance score: %.2f' % regr.score(X_test, y_test))\n",
    "logreg = LogisticRegression().fit(X_train, y_train)\n",
    "print('Coefficients: \\n', logreg.coef_)\n",
    "print(\"Training set score: {:.3f}\".format(logreg.score(X_train, y_train)))\n",
    "print(\"Test set score: {:.3f}\".format(logreg.score(X_test, y_test)))"
   ]
  },
  {
   "cell_type": "code",
   "execution_count": null,
   "metadata": {
    "collapsed": true
   },
   "outputs": [],
   "source": []
  }
 ],
 "metadata": {
  "kernelspec": {
   "display_name": "Python 3",
   "language": "python",
   "name": "python3"
  },
  "language_info": {
   "codemirror_mode": {
    "name": "ipython",
    "version": 3
   },
   "file_extension": ".py",
   "mimetype": "text/x-python",
   "name": "python",
   "nbconvert_exporter": "python",
   "pygments_lexer": "ipython3",
   "version": "3.6.0"
  }
 },
 "nbformat": 4,
 "nbformat_minor": 2
}
