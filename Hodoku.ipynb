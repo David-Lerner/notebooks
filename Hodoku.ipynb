{
 "cells": [
  {
   "cell_type": "code",
   "execution_count": 1,
   "metadata": {
    "collapsed": true
   },
   "outputs": [],
   "source": [
    "import sqlite3\n",
    "import numpy as np\n",
    "import pandas as pd\n",
    "import matplotlib.pyplot as plt\n",
    "from IPython.display import set_matplotlib_formats, display, HTML\n",
    "\n",
    "\n",
    "DB = '../data/hodoku.db'"
   ]
  },
  {
   "cell_type": "code",
   "execution_count": 45,
   "metadata": {
    "collapsed": false
   },
   "outputs": [
    {
     "name": "stdout",
     "output_type": "stream",
     "text": [
      "[[ 25 169   7   2   0   0   0   2   0   3]\n",
      " [ 25 167  13   1   1   0   0   6   0   3]\n",
      " [ 23 163  13   4   2   0   0   2   0   4]\n",
      " [ 25 153  19   3   4   0   0   2   0   2]\n",
      " [ 24 160  22   1   2   0   0   4   0   3]\n",
      " [ 23 179  10   0   0   0   0   0   0   0]\n",
      " [ 25 147  23   5   1   1   1   2   1   2]\n",
      " [ 26 160  11   0   1   0   0   0   0   2]\n",
      " [ 24 157  25   0   0   0   0   0   0   0]\n",
      " [ 23 172  15   2   1   0   0   0   0   0]]\n",
      "[[25 42  4  5  0  0  0  2  0  3]\n",
      " [25 33  4  2  2  0  0 12  0  3]\n",
      " [23 39  7  4  1  0  0  3  0  4]\n",
      " [25 27 11  5  6  0  0  5  0  2]\n",
      " [24 28 11  3  3  0  0  9  0  3]\n",
      " [23 51  7  0  0  0  0  0  0  0]\n",
      " [25 24 10  7  3  2  1  4  3  2]\n",
      " [26 44  7  0  2  0  0  0  0  2]\n",
      " [24 43 14  0  0  0  0  0  0  0]\n",
      " [23 40 10  4  4  0  0  0  0  0]]\n",
      "[[1 1 1 1 0 0 0 1 0 1]\n",
      " [1 1 1 1 1 0 0 1 0 1]\n",
      " [1 1 1 1 1 0 0 1 0 1]\n",
      " [1 1 1 1 1 0 0 1 0 1]\n",
      " [1 1 1 1 1 0 0 1 0 1]\n",
      " [1 1 1 0 0 0 0 0 0 0]\n",
      " [1 1 1 1 1 1 1 1 1 1]\n",
      " [1 1 1 0 1 0 0 0 0 1]\n",
      " [1 1 1 0 0 0 0 0 0 0]\n",
      " [1 1 1 1 1 0 0 0 0 0]]\n",
      "[3 3 4 4 4 0 3 2 0 1]\n",
      "['Easy' 'Medium' 'Hard' 'Unfair' 'Extreme']\n",
      "['given', 'Possible_Values', 'Hidden_Singles', 'Naked_Pairs', 'Naked_Triples', 'Hidden_Pairs', 'Hidden_Triples', 'Intersection_Removal', 'X_Wing', 'Brute_Force']\n"
     ]
    }
   ],
   "source": [
    "def load_sudokus(path):\n",
    "    conn = sqlite3.connect(path)\n",
    "    c = conn.cursor()\n",
    "    #c.execute('SELECT * FROM \"sudoku\" LIMIT 0, 10;')\n",
    "    c.execute('SELECT * FROM \"sudoku\" ORDER BY RANDOM();')\n",
    "    data = c.fetchall()\n",
    "    names = [member[0] for member in c.description]\n",
    "    dic = {'Extreme': 4, 'Unfair': 3, 'Hard': 2, 'Medium': 1, 'Easy': 0}\n",
    "    data_raw = np.array([row[3:] for row in data]) \n",
    "    dataset = {}\n",
    "    dataset['data'] = data_raw[:,:10]\n",
    "    dataset['data_cell'] = np.delete(data_raw, np.s_[1:10], 1)\n",
    "    dataset['data_bool'] = np.clip(data_raw[:,:10], 0, 1)\n",
    "    dataset['target'] = np.array([dic[name] for name in [row[2] for row in data]])\n",
    "    dataset['target_names'] = np.array(['Easy', 'Medium', 'Hard', 'Unfair', 'Extreme'])\n",
    "    dataset['feature_names'] = names[3:13]\n",
    "    c.close()\n",
    "    conn.close()\n",
    "    return dataset\n",
    "\n",
    "dataset = load_sudokus(DB)\n",
    "#print the first 10 results\n",
    "print(dataset['data'][:10])\n",
    "print(dataset['data_cell'][:10])\n",
    "print(dataset['data_bool'][:10])\n",
    "print(dataset['target'][:10])\n",
    "print(dataset['target_names'])\n",
    "print(dataset['feature_names'])"
   ]
  },
  {
   "cell_type": "code",
   "execution_count": 18,
   "metadata": {
    "collapsed": true
   },
   "outputs": [],
   "source": [
    "from sklearn.model_selection import train_test_split\n",
    "X_train, X_test, y_train, y_test = train_test_split(\n",
    "    dataset['data'], dataset['target'], random_state=0)"
   ]
  },
  {
   "cell_type": "code",
   "execution_count": 19,
   "metadata": {
    "collapsed": false
   },
   "outputs": [
    {
     "name": "stdout",
     "output_type": "stream",
     "text": [
      "X_train shape: (7500, 10)\n",
      "y_train shape: (7500,)\n"
     ]
    }
   ],
   "source": [
    "print(\"X_train shape: {}\".format(X_train.shape))\n",
    "print(\"y_train shape: {}\".format(y_train.shape))"
   ]
  },
  {
   "cell_type": "code",
   "execution_count": 20,
   "metadata": {
    "collapsed": false
   },
   "outputs": [
    {
     "name": "stdout",
     "output_type": "stream",
     "text": [
      "X_test shape: (2500, 10)\n",
      "y_test shape: (2500,)\n"
     ]
    }
   ],
   "source": [
    "print(\"X_test shape: {}\".format(X_test.shape))\n",
    "print(\"y_test shape: {}\".format(y_test.shape))"
   ]
  },
  {
   "cell_type": "code",
   "execution_count": 21,
   "metadata": {
    "collapsed": true
   },
   "outputs": [],
   "source": [
    "def avg_by_class(data, coef, intercept, target, labels):\n",
    "    avgs = []\n",
    "    for label in labels:\n",
    "        avgs.append([0,0,label])\n",
    "    for i in range(len(data)):\n",
    "        dot = np.dot(data[i,:], coef)+intercept\n",
    "        avgs[target[i]][0] += dot\n",
    "        avgs[target[i]][1] += 1\n",
    "    print(\"Average score by class:\")\n",
    "    for e in avgs:\n",
    "        print(\"{}: {:.3f}\".format(e[2], e[0]/e[1]))\n",
    "\n",
    "def evaluate_regr(data, coef, intercept, target):\n",
    "    count = 0;\n",
    "    for i in range(len(data)):\n",
    "        dot = np.dot(data[i,:], coef)+intercept\n",
    "        if (int(round(dot)) == target[i]):\n",
    "            count += 1\n",
    "    return count/len(data)"
   ]
  },
  {
   "cell_type": "code",
   "execution_count": 36,
   "metadata": {
    "collapsed": false
   },
   "outputs": [
    {
     "name": "stdout",
     "output_type": "stream",
     "text": [
      "Coefficients: \n",
      " [  4.79834889   0.31065453   0.27263194   5.17190582   6.13765323\n",
      "   6.29289374   5.83322658   9.35814022  10.01409444  30.3905071 ]\n",
      "Intercept: \n",
      " -132.32540736\n",
      "Mean squared error: 2145.53\n",
      "Variance score: 0.57\n",
      "\n",
      "Average score by class:\n",
      "Easy: -126.957\n",
      "Medium: -117.358\n",
      "Hard: -82.612\n",
      "Unfair: -80.885\n",
      "Extreme: -78.358\n",
      "\n",
      "Training set score: 0.010\n",
      "Test set score: 0.013\n"
     ]
    }
   ],
   "source": [
    "from sklearn import linear_model\n",
    "\n",
    "X_train, X_test, y_train, y_test = train_test_split(\n",
    "    dataset['data'], dataset['target'], random_state=0)\n",
    "\n",
    "regr = linear_model.LinearRegression()\n",
    "regr.fit(X_train, y_train)\n",
    "\n",
    "print('Coefficients: \\n', regr.coef_)\n",
    "print('Intercept: \\n', regr.intercept_)\n",
    "print(\"Mean squared error: %.2f\"\n",
    "      % np.mean((regr.predict(X_test) - y_test) ** 2))\n",
    "# Explained variance score: 1 is perfect prediction\n",
    "print('Variance score: %.2f' % regr.score(X_test, y_test))\n",
    "print()\n",
    "avg_by_class(dataset['data_bool'], regr.coef_, regr.intercept_, dataset['target'], dataset['target_names'])\n",
    "print()\n",
    "print(\"Training set score: {:.3f}\".format(evaluate_regr(X_train, regr.coef_, regr.intercept_, y_train)))\n",
    "print(\"Test set score: {:.3f}\".format(evaluate_regr(X_test, regr.coef_, regr.intercept_, y_test)))"
   ]
  },
  {
   "cell_type": "code",
   "execution_count": 23,
   "metadata": {
    "collapsed": false
   },
   "outputs": [
    {
     "name": "stdout",
     "output_type": "stream",
     "text": [
      "Coefficients: \n",
      " [ 0.          0.          0.25238778  0.35900033  0.12029326  0.15222765\n",
      "  0.03373589  0.42262502  0.04422661  2.05144261]\n",
      "Mean squared error: 0.43\n",
      "Variance score: 0.78\n",
      "Coefficients: \n",
      " [ 0.          0.          0.25238778  0.35900033  0.12029326  0.15222765\n",
      "  0.03373589  0.42262502  0.04422661  2.05144261]\n",
      "Intercept: \n",
      " 0.033726501067\n",
      "Mean squared error: 0.43\n",
      "Variance score: 0.78\n",
      "\n",
      "Average score by class:\n",
      "Easy: 6.712\n",
      "Medium: 8.013\n",
      "Hard: 11.769\n",
      "Unfair: 11.601\n",
      "Extreme: 13.212\n",
      "\n",
      "Training set score: 0.589\n",
      "Test set score: 0.599\n"
     ]
    }
   ],
   "source": [
    "X_train, X_test, y_train, y_test = train_test_split(\n",
    "    dataset['data_bool'], dataset['target'], random_state=0)\n",
    "\n",
    "regr = linear_model.LinearRegression()\n",
    "regr.fit(X_train, y_train)\n",
    "\n",
    "print('Coefficients: \\n', regr.coef_)\n",
    "\n",
    "print(\"Mean squared error: %.2f\"\n",
    "      % np.mean((regr.predict(X_test) - y_test) ** 2))\n",
    "# Explained variance score: 1 is perfect prediction\n",
    "print('Variance score: %.2f' % regr.score(X_test, y_test))\n",
    "\n",
    "print('Coefficients: \\n', regr.coef_)\n",
    "print('Intercept: \\n', regr.intercept_)\n",
    "print(\"Mean squared error: %.2f\"\n",
    "      % np.mean((regr.predict(X_test) - y_test) ** 2))\n",
    "# Explained variance score: 1 is perfect prediction\n",
    "print('Variance score: %.2f' % regr.score(X_test, y_test))\n",
    "print()\n",
    "avg_by_class(dataset['data'], regr.coef_, regr.intercept_, dataset['target'], dataset['target_names'])\n",
    "print()\n",
    "print(\"Training set score: {:.3f}\".format(evaluate_regr(X_train, regr.coef_, regr.intercept_, y_train)))\n",
    "print(\"Test set score: {:.3f}\".format(evaluate_regr(X_test, regr.coef_, regr.intercept_, y_test)))"
   ]
  },
  {
   "cell_type": "code",
   "execution_count": 37,
   "metadata": {
    "collapsed": false
   },
   "outputs": [
    {
     "name": "stdout",
     "output_type": "stream",
     "text": [
      "Coefficients: \n",
      " [-0.68289492 -1.32676719 -1.29558989 -0.80669268 -0.71374766 -0.45949668\n",
      "  1.10406176 -0.33395404 -0.46289889  4.9779802 ]\n",
      "Mean squared error: 85.07\n",
      "Variance score: 0.57\n",
      "Coefficients: \n",
      " [-0.68289492 -1.32676719 -1.29558989 -0.80669268 -0.71374766 -0.45949668\n",
      "  1.10406176 -0.33395404 -0.46289889  4.9779802 ]\n",
      "Intercept: \n",
      " 99.2254064458\n",
      "Mean squared error: 85.07\n",
      "Variance score: 0.57\n",
      "\n",
      "Average score by class:\n",
      "Easy: 8.014\n",
      "Medium: 13.101\n",
      "Hard: 23.062\n",
      "Unfair: 25.203\n",
      "Extreme: 30.568\n",
      "\n",
      "Training set score: 0.049\n",
      "Test set score: 0.046\n"
     ]
    }
   ],
   "source": [
    "X_train, X_test, y_train, y_test = train_test_split(\n",
    "    dataset['data_cell'], dataset['target'], random_state=0)\n",
    "\n",
    "regr = linear_model.LinearRegression()\n",
    "regr.fit(X_train, y_train)\n",
    "\n",
    "print('Coefficients: \\n', regr.coef_)\n",
    "\n",
    "print(\"Mean squared error: %.2f\"\n",
    "      % np.mean((regr.predict(X_test) - y_test) ** 2))\n",
    "# Explained variance score: 1 is perfect prediction\n",
    "print('Variance score: %.2f' % regr.score(X_test, y_test))\n",
    "\n",
    "print('Coefficients: \\n', regr.coef_)\n",
    "print('Intercept: \\n', regr.intercept_)\n",
    "print(\"Mean squared error: %.2f\"\n",
    "      % np.mean((regr.predict(X_test) - y_test) ** 2))\n",
    "# Explained variance score: 1 is perfect prediction\n",
    "print('Variance score: %.2f' % regr.score(X_test, y_test))\n",
    "print()\n",
    "avg_by_class(dataset['data_cell'], regr.coef_, regr.intercept_, dataset['target'], dataset['target_names'])\n",
    "print()\n",
    "print(\"Training set score: {:.3f}\".format(evaluate_regr(X_train, regr.coef_, regr.intercept_, y_train)))\n",
    "print(\"Test set score: {:.3f}\".format(evaluate_regr(X_test, regr.coef_, regr.intercept_, y_test)))"
   ]
  },
  {
   "cell_type": "code",
   "execution_count": 42,
   "metadata": {
    "collapsed": false
   },
   "outputs": [
    {
     "name": "stdout",
     "output_type": "stream",
     "text": [
      "Test set score: 0.58\n"
     ]
    }
   ],
   "source": [
    "from sklearn.neighbors import KNeighborsClassifier\n",
    "knn = KNeighborsClassifier(n_neighbors=5)\n",
    "\n",
    "X_train, X_test, y_train, y_test = train_test_split(\n",
    "    dataset['data_cell'], dataset['target'], random_state=0)\n",
    "\n",
    "knn = KNeighborsClassifier(n_neighbors=7)\n",
    "knn.fit(X_train, y_train)\n",
    "\n",
    "print(\"Test set score: {:.2f}\".format(knn.score(X_test, y_test)))"
   ]
  },
  {
   "cell_type": "code",
   "execution_count": 34,
   "metadata": {
    "collapsed": false
   },
   "outputs": [
    {
     "name": "stdout",
     "output_type": "stream",
     "text": [
      "Variance score: -7.41\n",
      "Coefficients: \n",
      " [[  1.31265065e+00   1.31265065e+00  -2.23794894e-01  -8.27079448e+00\n",
      "   -6.32020980e+00  -4.90863593e+00  -1.07389577e+00  -5.65724347e+00\n",
      "   -1.31598207e+00  -7.24892326e+00]\n",
      " [ -1.19613711e+00  -1.19613711e+00   8.75583104e-01   5.78873862e+00\n",
      "    3.35637266e+00   1.86805994e+00   3.76909850e-02   2.82975576e+00\n",
      "   -3.09343182e+00  -1.32539376e+01]\n",
      " [ -1.68469985e+00  -1.68469985e+00   8.23010429e-02  -4.94799497e-03\n",
      "   -1.07958069e-01  -3.14771001e-01  -7.87948751e-02  -9.50936127e-01\n",
      "    5.35823429e-02   5.05967298e+00]\n",
      " [ -1.63111028e+00  -1.63111028e+00  -1.18526024e+00  -5.58776599e-02\n",
      "   -2.94122501e-02  -1.78104561e-01  -3.44709199e-02   3.77469165e-02\n",
      "   -1.99675591e-02   5.40268403e+00]\n",
      " [ -1.80500332e+00  -1.80500332e+00  -1.11931557e+00   1.02859068e-01\n",
      "    1.57051075e-01   4.15884649e-01   1.24716072e-01   1.24427119e+00\n",
      "    9.12866839e-02   4.61292497e+00]]\n",
      "Training set score: 0.649\n",
      "Test set score: 0.636\n"
     ]
    }
   ],
   "source": [
    "from sklearn.linear_model import LogisticRegression\n",
    "\n",
    "X_train, X_test, y_train, y_test = train_test_split(\n",
    "    dataset['data_bool'], dataset['target'], random_state=0)\n",
    "\n",
    "# Explained variance score: 1 is perfect prediction\n",
    "print('Variance score: %.2f' % regr.score(X_test, y_test))\n",
    "logreg = LogisticRegression().fit(X_train, y_train)\n",
    "print('Coefficients: \\n', logreg.coef_)\n",
    "print(\"Training set score: {:.3f}\".format(logreg.score(X_train, y_train)))\n",
    "print(\"Test set score: {:.3f}\".format(logreg.score(X_test, y_test)))"
   ]
  },
  {
   "cell_type": "code",
   "execution_count": 49,
   "metadata": {
    "collapsed": false
   },
   "outputs": [
    {
     "name": "stdout",
     "output_type": "stream",
     "text": [
      "Accuracy on training set: 0.662\n",
      "Accuracy on test set: 0.634\n"
     ]
    }
   ],
   "source": [
    "from sklearn.tree import DecisionTreeClassifier\n",
    "\n",
    "X_train, X_test, y_train, y_test = train_test_split(\n",
    "    dataset['data_bool'], dataset['target'], random_state=0)\n",
    "\n",
    "#build the tree using the training data\n",
    "tree = DecisionTreeClassifier()\n",
    "tree.fit(X_train, y_train)\n",
    "\n",
    "#Print accuracy of the model\n",
    "print(\"Accuracy on training set: {:.3f}\".format(tree.score(X_train, y_train)))\n",
    "print(\"Accuracy on test set: {:.3f}\".format(tree.score(X_test, y_test)))"
   ]
  },
  {
   "cell_type": "code",
   "execution_count": 44,
   "metadata": {
    "collapsed": true
   },
   "outputs": [],
   "source": [
    "def load_sudokus(path):\n",
    "    conn = sqlite3.connect(path)\n",
    "    c = conn.cursor()\n",
    "    #c.execute('SELECT * FROM \"sudoku\" LIMIT 0, 10;')\n",
    "    c.execute('SELECT * FROM \"sudoku\";')\n",
    "    data = c.fetchall()\n",
    "    names = [member[0] for member in c.description]\n",
    "    dic = {'Diabolical': 4, 'Hard': 3, 'Medium': 2, 'Easy': 1, 'Ultra Easy': 0}\n",
    "    data_raw = np.array([row[3:] for row in data]) \n",
    "    dataset = {}\n",
    "    dataset['data'] = data_raw[:,:10]\n",
    "    dataset['data_cell'] = np.delete(data_raw, np.s_[1:10], 1)\n",
    "    dataset['data_bool'] = np.clip(data_raw[:,:10], 0, 1)\n",
    "    dataset['target'] = np.array([dic[name] for name in [row[2] for row in data]])\n",
    "    dataset['target_names'] = np.array(['Ultra Easy', 'Easy', 'Medium', 'Hard', 'Diabolical'])\n",
    "    dataset['feature_names'] = names[3:13]\n",
    "    c.close()\n",
    "    conn.close()\n",
    "    return dataset\n",
    "\n",
    "dataset2 = load_sudokus('../data/puzzler.db')"
   ]
  },
  {
   "cell_type": "code",
   "execution_count": 50,
   "metadata": {
    "collapsed": false
   },
   "outputs": [
    {
     "name": "stdout",
     "output_type": "stream",
     "text": [
      "Accuracy on Mixed set: 0.144\n"
     ]
    }
   ],
   "source": [
    "from sklearn.tree import DecisionTreeClassifier\n",
    "\n",
    "X_train, X_test, y_train, y_test = train_test_split(\n",
    "    dataset['data'], dataset['target'], random_state=0)\n",
    "\n",
    "#build the tree using the training data\n",
    "tree = DecisionTreeClassifier()\n",
    "tree.fit(X_train, y_train)\n",
    "\n",
    "#Print accuracy of the model\n",
    "print(\"Accuracy on Mixed set: {:.3f}\".format(tree.score(dataset2['data'], dataset2['target'])))\n"
   ]
  },
  {
   "cell_type": "code",
   "execution_count": null,
   "metadata": {
    "collapsed": true
   },
   "outputs": [],
   "source": []
  }
 ],
 "metadata": {
  "kernelspec": {
   "display_name": "Python 3",
   "language": "python",
   "name": "python3"
  },
  "language_info": {
   "codemirror_mode": {
    "name": "ipython",
    "version": 3
   },
   "file_extension": ".py",
   "mimetype": "text/x-python",
   "name": "python",
   "nbconvert_exporter": "python",
   "pygments_lexer": "ipython3",
   "version": "3.6.0"
  }
 },
 "nbformat": 4,
 "nbformat_minor": 2
}
